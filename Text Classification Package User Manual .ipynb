{
 "cells": [
  {
   "cell_type": "markdown",
   "metadata": {},
   "source": [
    "## Note\n",
    "\n",
    "- Author: Luke Arunanondchai\n",
    "- Software: Python 3.7.3, 64-bit\n",
    "- Project: ARM\n",
    "\n",
    "### Steps\n",
    "1. In the text-preprocessing step, stopwords and unwanted characters are removed. \n",
    "2. TFIDF matrix is computed for 1- to 6-gram features corresponding to each tokenized sentences.\n",
    "3. DBSCAN is performed on the TFIDF matrix. The unique sentences are then separated and go through step 1-3 again in order to generate new sets of featurs before running DBSCAN. The algorithm stops when DBSCAN can no longer reduce the number of unique sentences.\n",
    "4. Once we have all sentences assigned into groups, we generate a sentence-group-count matrix for all KAM reports. In this matrix, sentence groups serve as features of each KAM report.\n",
    "5. Then, we perform DBSCAN on the sentence-group-count matrix to classify each KAM report into groups.\n",
    "\n",
    "### Outputs\n",
    "1. Report by sentence\n",
    "2. Report by document\n",
    "3. QC Report using cosine score\n",
    "4. QC Histogram using cosine score\n",
    "5. QC Report using DBSCAN\n",
    "6. Summary Table by Filter\n"
   ]
  },
  {
   "cell_type": "markdown",
   "metadata": {},
   "source": [
    "### Import the customized package and other external packages"
   ]
  },
  {
   "cell_type": "code",
   "execution_count": 1,
   "metadata": {},
   "outputs": [],
   "source": [
    "# Import packages \n",
    "from KAM_project_4.kam_classification_tools import *\n",
    "import sklearn\n",
    "%matplotlib inline \n",
    "%matplotlib qt"
   ]
  },
  {
   "cell_type": "markdown",
   "metadata": {},
   "source": [
    "### Housekeeping Step"
   ]
  },
  {
   "cell_type": "code",
   "execution_count": 2,
   "metadata": {},
   "outputs": [],
   "source": [
    "# Housekeeping : delete all python objects before starting\n",
    "for f in glob.glob('..\\\\Intermediates\\\\*'):\n",
    "    os.remove(f)"
   ]
  },
  {
   "cell_type": "markdown",
   "metadata": {},
   "source": [
    "### Note for the input file\n",
    "Please refer to the memo."
   ]
  },
  {
   "cell_type": "code",
   "execution_count": 3,
   "metadata": {},
   "outputs": [],
   "source": [
    "excel_file = \"UK KAM data with correct std classifications.xlsx\"\n",
    "es_sent = [0.99] ; es_kam = [1.0]\n",
    "\n",
    "# Choose KAM Item\n",
    "# my_item = 'kam_description'\n",
    "my_item = 'kam_addressing'\n"
   ]
  },
  {
   "cell_type": "markdown",
   "metadata": {},
   "source": [
    "## KAM Classification Steps"
   ]
  },
  {
   "cell_type": "markdown",
   "metadata": {},
   "source": [
    "### Perfrom text preprocessing steps and generate the initial output from the 1st step of DBSCAN."
   ]
  },
  {
   "cell_type": "code",
   "execution_count": 4,
   "metadata": {},
   "outputs": [
    {
     "name": "stdout",
     "output_type": "stream",
     "text": [
      "\n",
      "\t\n",
      "\tDescription for the `transform_and_train` function:\n",
      "\t====================================================================================================\n",
      "\tInputs:\n",
      "\t====================================================================================================\n",
      "\t\tfile            : xlsx filename.\n",
      "\t\tmy_item         : kam item. Currently, it is either kam_description or kam_addressing.\n",
      "\t\te               : The maximum distance between two samples for one to be considered as in the \n",
      "                                neighborhood of the other. This is the most important DBSCAN parameter to \n",
      "                                choose appropriately for your data set and distance function.\n",
      "\t\tmy_year         : year (int). The default value is ''.\n",
      "\t\tmin_s\t        : The number of samples in a neighborhood for a point to be considered \n",
      "\t\t\t\tas a core point for DBSCAN. The default value is 2.\n",
      "\t\tlength_feature \t: A boolean parameter to specify whether the length of sentences should be \n",
      "                                used as a feature or not. The default value is False.\n",
      "                output          : default = False, export an xlsx file to the Ouputs directory if True.\n",
      "    \n",
      "\t====================================================================================================\n",
      "\tOutputs:\n",
      "\t====================================================================================================\n",
      "\t\tdf_sent         : The initial output from the 1st step of DBSCAN. This is required for the \n",
      "\t\t                multi-DBSCAN step.\n",
      "\t\n",
      "\t====================================================================================================\n",
      "\t\n"
     ]
    }
   ],
   "source": [
    "print(transform_and_train.__doc__)"
   ]
  },
  {
   "cell_type": "code",
   "execution_count": 5,
   "metadata": {
    "scrolled": true
   },
   "outputs": [
    {
     "name": "stdout",
     "output_type": "stream",
     "text": [
      "Text Preprocessing...\n",
      "Training...\n",
      "\n",
      "\n",
      "Done\n"
     ]
    }
   ],
   "source": [
    "for e in es_sent:\n",
    "    df_sent = transform_and_train(file = excel_file, my_item = my_item, e = e, music=False)"
   ]
  },
  {
   "cell_type": "markdown",
   "metadata": {},
   "source": [
    "### Perform sequential DBSCAN with decreasing n-gram."
   ]
  },
  {
   "cell_type": "code",
   "execution_count": 6,
   "metadata": {},
   "outputs": [
    {
     "name": "stdout",
     "output_type": "stream",
     "text": [
      "\n",
      "\tDescription for the `seqNoisesClassfication` function:\n",
      "\t====================================================================================================\n",
      "\tInputs:\n",
      "\t====================================================================================================\n",
      "\t\te               : The maximum distance between two samples for one to be considered as in the \n",
      "                                neighborhood of the other. This is the most important DBSCAN parameter to \n",
      "                                choose appropriately for your data set and distance function.\n",
      "\t\tmy_item         : kam item. Currently, it is either kam_description or kam_addressing.\n",
      "\t\tdf              : The dataframe from the `transform_and_train` function.\n",
      "\t\tmy_gram\t        : n-gram to be used for the analysis. default = (1,6). \n",
      "\t\tout_path        : The directory path for the multi-DBSCAN step's outputs.\n",
      "                length_feature  : A boolean parameter to specify whether the length of sentences should be \n",
      "                                used as a feature or not. The default value is False.\n",
      "                output          : default = False, export an xlsx file to the Ouputs directory if True.\n",
      "    \n",
      "\t====================================================================================================\n",
      "\tOutputs:\n",
      "\t====================================================================================================\n",
      "\t\tdf_sent_final   : The output from the multi-DBSCAN step.\n",
      "\t\n",
      "\t====================================================================================================\n",
      "\t\n"
     ]
    }
   ],
   "source": [
    "print(seqNoisesClassfication.__doc__)"
   ]
  },
  {
   "cell_type": "code",
   "execution_count": 7,
   "metadata": {
    "scrolled": false
   },
   "outputs": [
    {
     "name": "stdout",
     "output_type": "stream",
     "text": [
      "\n",
      "Iterations corresponding to n-gram = (1, 6)\n",
      "Number of iterations needed: 3\n",
      "Number of sentences in the noise group in each iteration: [5810, 5763, 5761]\n",
      "-----------------------------------------------------------------------------------\n",
      "\n",
      "Iterations corresponding to n-gram = (1, 5)\n",
      "Number of iterations needed: 3\n",
      "Number of sentences in the noise group in each iteration: [5761, 5632, 5630]\n",
      "-----------------------------------------------------------------------------------\n",
      "\n",
      "Iterations corresponding to n-gram = (1, 4)\n",
      "Number of iterations needed: 3\n",
      "Number of sentences in the noise group in each iteration: [5630, 5479, 5477]\n",
      "-----------------------------------------------------------------------------------\n",
      "\n",
      "Iterations corresponding to n-gram = (1, 3)\n",
      "Number of iterations needed: 3\n",
      "Number of sentences in the noise group in each iteration: [5477, 5310, 5308]\n",
      "-----------------------------------------------------------------------------------\n",
      "\n",
      "Iterations corresponding to n-gram = (1, 2)\n",
      "Number of iterations needed: 3\n",
      "Number of sentences in the noise group in each iteration: [5308, 5041, 5035]\n",
      "-----------------------------------------------------------------------------------\n",
      "\n",
      "Iterations corresponding to n-gram = (1, 1)\n",
      "Number of iterations needed: 4\n",
      "Number of sentences in the noise group in each iteration: [5035, 4071, 4045, 4043]\n",
      "-----------------------------------------------------------------------------------\n"
     ]
    }
   ],
   "source": [
    "df_sent_final = seqNoisesClassfication(es_sent[-1],my_item,df_sent,      my_gram = (1,6))\n",
    "df_sent_final = seqNoisesClassfication(es_sent[-1],my_item,df_sent_final,my_gram = (1,5))\n",
    "df_sent_final = seqNoisesClassfication(es_sent[-1],my_item,df_sent_final,my_gram = (1,4))\n",
    "df_sent_final = seqNoisesClassfication(es_sent[-1],my_item,df_sent_final,my_gram = (1,3))\n",
    "df_sent_final = seqNoisesClassfication(es_sent[-1],my_item,df_sent_final,my_gram = (1,2))\n",
    "df_sent_final = seqNoisesClassfication(es_sent[-1],my_item,df_sent_final,my_gram = (1,1))"
   ]
  },
  {
   "cell_type": "markdown",
   "metadata": {},
   "source": [
    "### Perform DBSCAN for KAM reports."
   ]
  },
  {
   "cell_type": "code",
   "execution_count": 8,
   "metadata": {
    "scrolled": false
   },
   "outputs": [
    {
     "name": "stdout",
     "output_type": "stream",
     "text": [
      "\n",
      "\tDescription for the `kamClassifcation` function:\n",
      "\t====================================================================================================\n",
      "\tInputs:\n",
      "\t====================================================================================================\n",
      "\t\tdf              : The dataframe from the `seqNoisesClassfication` function.\n",
      "\t\tmy_item         : kam item. Currently, it is either kam_description or kam_addressing.\n",
      "\t\tfile            : xlsx filename.\n",
      "\t\tmy_gram\t        : n-gram to be used for the analysis. default = (1,6).\n",
      "                es              : A list of epsilon values.  \n",
      "\t\tout_path        : The directory path for the kam_report DBSCAN step's output.\n",
      "                output          : default = False, export an xlsx file to the Ouputs directory if True.\n",
      "    \n",
      "\t====================================================================================================\n",
      "\tOutputs:\n",
      "\t====================================================================================================\n",
      "\t\tfinal_kam_group : The output from the kam_report DBSCAN step.\n",
      "                label_df        : The labels from the kam_report DBSCAN step.\n",
      "\t\n",
      "\t====================================================================================================\n",
      "\t\n"
     ]
    }
   ],
   "source": [
    "print(kamClassifcation.__doc__)"
   ]
  },
  {
   "cell_type": "code",
   "execution_count": 9,
   "metadata": {},
   "outputs": [
    {
     "name": "stdout",
     "output_type": "stream",
     "text": [
      "\n",
      "Output Filename:  kam_addressing_report_1.0_1582.xlsx\n"
     ]
    }
   ],
   "source": [
    "final_kam_group, label_df, orig = kamClassifcation(df_sent_final,my_item,excel_file ,es_kam,output=True)"
   ]
  },
  {
   "cell_type": "markdown",
   "metadata": {},
   "source": [
    "## QC Process"
   ]
  },
  {
   "cell_type": "markdown",
   "metadata": {},
   "source": [
    "### Perform QC by DBSCAN"
   ]
  },
  {
   "cell_type": "code",
   "execution_count": 10,
   "metadata": {},
   "outputs": [
    {
     "name": "stdout",
     "output_type": "stream",
     "text": [
      "\n",
      "\tDescription for the `QC_uniqueSentences_DB` function:\n",
      "\t====================================================================================================\n",
      "\tInputs:\n",
      "\t====================================================================================================\n",
      "            df_sent_final       : The dataframe from the `seqNoisesClassfication` function.\n",
      "\t    my_item             : kam item. Currently, it is either kam_description or kam_addressing.\n",
      "            by_chunk            : default = True = QC by chunk. QC by sentence if False.\n",
      "            output              : default = False, export an xlsx file to the Ouputs directory if True.\n",
      "    \n",
      "\t====================================================================================================\n",
      "\tOutputs:\n",
      "\t====================================================================================================\n",
      "\t    df_check                : A QC report.\n",
      "\t\n",
      "\t====================================================================================================\n",
      "\t\n"
     ]
    }
   ],
   "source": [
    "print(QC_uniqueSentences_DB.__doc__)"
   ]
  },
  {
   "cell_type": "code",
   "execution_count": 11,
   "metadata": {
    "scrolled": true
   },
   "outputs": [
    {
     "name": "stdout",
     "output_type": "stream",
     "text": [
      "Number of unique sentences got regrouped : 0\n"
     ]
    }
   ],
   "source": [
    "# Perfom QC by DBSCAN for all unique sentences\n",
    "QC_DB_df_chunk = QC_uniqueSentences_DB(df_sent_final,my_item,by_chunk=True,output=False)\n",
    "\n",
    "## Perfom QC by DBSCAN for unique sentences one by one\n",
    "# QC_DB_df_sent = QC_uniqueSentences_DB(df_sent_final,my_item,by_chunk=False,output=False)"
   ]
  },
  {
   "cell_type": "markdown",
   "metadata": {},
   "source": [
    "Here, we ran DBSCAN on the unique sentences with previously grouped sentences. The result (0) from the QC step ensures that no more regrouping is possible."
   ]
  },
  {
   "cell_type": "markdown",
   "metadata": {},
   "source": [
    "### Perform QC by cosine similarity score.\n",
    "\n",
    "Note: Since there is a limitation on the number of rows in excel, we create the condition that we will keep only the pairs of sentences that have their cosine similarity scores greater than 0.1."
   ]
  },
  {
   "cell_type": "code",
   "execution_count": 12,
   "metadata": {
    "scrolled": false
   },
   "outputs": [
    {
     "name": "stdout",
     "output_type": "stream",
     "text": [
      "\n",
      "\tDescription for the `QC_uniqueSentences_cosine` function:\n",
      "\t====================================================================================================\n",
      "\tInputs:\n",
      "\t====================================================================================================\n",
      "            df_sent_final   : The dataframe from the `seqNoisesClassfication` function.\n",
      "\t    my_item         : kam item. Currently, it is either kam_description or kam_addressing.\n",
      "            min_cosine      : The minimum value of cosine score to be considered. default = 0.1.\n",
      "            output          : default = False, export an xlsx file to the Ouputs directory if True.\n",
      "            my_col          : color for the histogram. default = 'maroon'\n",
      "    \n",
      "\t====================================================================================================\n",
      "\tOutputs:\n",
      "\t====================================================================================================\n",
      "\t    matched_sent        : A QC report.\n",
      "            histogram\n",
      "\t\n",
      "\t====================================================================================================\n",
      "\t\n",
      "Maximum value of Cosine Similarity Score: 0.4843412154884688\n",
      "\n",
      "Output Filename:  kam_addressing_QC_uniqueSentences_cosine.xlsx\n"
     ]
    },
    {
     "data": {
      "image/png": "[encoded data removed]",
      "text/plain": [
       "<Figure size 432x288 with 1 Axes>"
      ]
     },
     "metadata": {
      "needs_background": "light"
     },
     "output_type": "display_data"
    }
   ],
   "source": [
    "print(QC_uniqueSentences_cosine.__doc__)\n",
    "QC_cosine = QC_uniqueSentences_cosine(df_sent_final,my_item,min_cosine = 0.1,output=True, my_col = 'maroon')"
   ]
  },
  {
   "cell_type": "markdown",
   "metadata": {},
   "source": [
    "## Summary Tables"
   ]
  },
  {
   "cell_type": "code",
   "execution_count": 13,
   "metadata": {
    "scrolled": true
   },
   "outputs": [
    {
     "name": "stdout",
     "output_type": "stream",
     "text": [
      "\n",
      "\tDescription for the `genSummaryTable` function:\n",
      "\t====================================================================================================\n",
      "\tInputs:\n",
      "\t====================================================================================================\n",
      "\t    my_item             : kam item. Currently, it is either kam_description or kam_addressing.\n",
      "            df_sent_final       : The dataframe from the `seqNoisesClassfication` function.\n",
      "            final_kam_group     : The output from the kam_report DBSCAN step.\n",
      "            group_filer         : A list of filtered groups. default = ['year']\n",
      "            output              : default = False, export an xlsx file to the Ouputs directory if True.\n",
      "    \n",
      "\t====================================================================================================\n",
      "\tOutputs:\n",
      "\t====================================================================================================\n",
      "\t    sd_tb               : A summary table.\n",
      "\t\n",
      "\t====================================================================================================\n",
      "\t\n"
     ]
    }
   ],
   "source": [
    "print(genSummaryTable.__doc__)"
   ]
  },
  {
   "cell_type": "code",
   "execution_count": 14,
   "metadata": {
    "scrolled": true
   },
   "outputs": [
    {
     "name": "stdout",
     "output_type": "stream",
     "text": [
      "\n",
      "Output Filename:  kam_addressing_SummaryTable_year.xlsx\n"
     ]
    },
    {
     "data": {
      "text/html": [
       "<div>\n",
       "<style scoped>\n",
       "    .dataframe tbody tr th:only-of-type {\n",
       "        vertical-align: middle;\n",
       "    }\n",
       "\n",
       "    .dataframe tbody tr th {\n",
       "        vertical-align: top;\n",
       "    }\n",
       "\n",
       "    .dataframe thead th {\n",
       "        text-align: right;\n",
       "    }\n",
       "</style>\n",
       "<table border=\"1\" class=\"dataframe\">\n",
       "  <thead>\n",
       "    <tr style=\"text-align: right;\">\n",
       "      <th></th>\n",
       "      <th></th>\n",
       "      <th></th>\n",
       "      <th>Total</th>\n",
       "      <th>Percent</th>\n",
       "    </tr>\n",
       "    <tr>\n",
       "      <th>Item</th>\n",
       "      <th>Filter</th>\n",
       "      <th>Type</th>\n",
       "      <th></th>\n",
       "      <th></th>\n",
       "    </tr>\n",
       "  </thead>\n",
       "  <tbody>\n",
       "    <tr>\n",
       "      <th rowspan=\"8\" valign=\"top\">kam_addressing</th>\n",
       "      <th rowspan=\"2\" valign=\"top\">2013</th>\n",
       "      <th>KAM component</th>\n",
       "      <td>735.0</td>\n",
       "      <td>39.11</td>\n",
       "    </tr>\n",
       "    <tr>\n",
       "      <th>sentence</th>\n",
       "      <td>2350.0</td>\n",
       "      <td>69.02</td>\n",
       "    </tr>\n",
       "    <tr>\n",
       "      <th rowspan=\"2\" valign=\"top\">2014</th>\n",
       "      <th>KAM component</th>\n",
       "      <td>1233.0</td>\n",
       "      <td>33.92</td>\n",
       "    </tr>\n",
       "    <tr>\n",
       "      <th>sentence</th>\n",
       "      <td>5243.0</td>\n",
       "      <td>58.10</td>\n",
       "    </tr>\n",
       "    <tr>\n",
       "      <th rowspan=\"2\" valign=\"top\">2015</th>\n",
       "      <th>KAM component</th>\n",
       "      <td>451.0</td>\n",
       "      <td>29.40</td>\n",
       "    </tr>\n",
       "    <tr>\n",
       "      <th>sentence</th>\n",
       "      <td>2383.0</td>\n",
       "      <td>53.08</td>\n",
       "    </tr>\n",
       "    <tr>\n",
       "      <th rowspan=\"2\" valign=\"top\">ALL</th>\n",
       "      <th>KAM component</th>\n",
       "      <td>2419.0</td>\n",
       "      <td>34.60</td>\n",
       "    </tr>\n",
       "    <tr>\n",
       "      <th>sentence</th>\n",
       "      <td>9976.0</td>\n",
       "      <td>59.47</td>\n",
       "    </tr>\n",
       "  </tbody>\n",
       "</table>\n",
       "</div>"
      ],
      "text/plain": [
       "                                      Total  Percent\n",
       "Item           Filter Type                          \n",
       "kam_addressing 2013   KAM component   735.0    39.11\n",
       "                      sentence       2350.0    69.02\n",
       "               2014   KAM component  1233.0    33.92\n",
       "                      sentence       5243.0    58.10\n",
       "               2015   KAM component   451.0    29.40\n",
       "                      sentence       2383.0    53.08\n",
       "               ALL    KAM component  2419.0    34.60\n",
       "                      sentence       9976.0    59.47"
      ]
     },
     "execution_count": 14,
     "metadata": {},
     "output_type": "execute_result"
    }
   ],
   "source": [
    "genSummaryTable(my_item,df_sent_final,final_kam_group,output=True)"
   ]
  },
  {
   "cell_type": "markdown",
   "metadata": {},
   "source": [
    "In this table, the Total column reports the number of sentences or KAM components that are grouped by the algorithm into groups of similar sentences or KAM components. The percent column reports the percentage of similar sentences or KAM components corresponding to the Total column.\n",
    "\n",
    "Please refer to the memo for more details."
   ]
  }
 ],
 "metadata": {
  "kernelspec": {
   "display_name": "Python 3",
   "language": "python",
   "name": "python3"
  },
  "language_info": {
   "codemirror_mode": {
    "name": "ipython",
    "version": 3
   },
   "file_extension": ".py",
   "mimetype": "text/x-python",
   "name": "python",
   "nbconvert_exporter": "python",
   "pygments_lexer": "ipython3",
   "version": "3.7.3"
  }
 },
 "nbformat": 4,
 "nbformat_minor": 2
}
