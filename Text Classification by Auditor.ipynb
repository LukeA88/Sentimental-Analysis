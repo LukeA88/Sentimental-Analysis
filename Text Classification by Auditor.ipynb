{
 "cells": [
  {
   "cell_type": "markdown",
   "metadata": {},
   "source": [
    "## Note\n",
    "\n",
    "- Author: Luke Arunanondchai\n",
    "- Software: Python 3.7.3, 64-bit\n",
    "\n",
    "### Overviews\n",
    "- This script perfrom classification for both sentences and Key Audit Matter section (KAM)) by utilizing the unsupervised machine learning technique called DBSCAN.\n",
    "- Goal: Detect which reports contain no new information or potentially are boilerplate (not conforming with the new SEC rule).
    "\n",
    "### Steps\n",
    "1. In the text-preprocessing step, stopwords and unwanted characters are removed. \n",
    "2. TFIDF matrix is computed for 1- to 6-gram features corresponding to each tokenized sentences.\n",
    "3. DBSCAN is performed on the TFIDF matrix. The unique sentences are then separated and go through step 1-3 again in order to generate new sets of featurs before running DBSCAN. The algorithm stops when DBSCAN can no longer reduce the number of unique sentences.\n",
    "4. Once I have all sentences assigned into groups, I generate a sentence-group-count matrix for all KAM reports. In this matrix, sentence groups serve as features of each KAM report.\n",
    "5. Then, I perform DBSCAN on the sentence-group-count matrix to classify each KAM report into groups.\n",
    "\n",
    "### Outputs\n",
    "1. Report by sentence\n",
    "2. Report by document\n",
    "3. Summary Table by Filter\n",
    "4. Barplots by Filter\n",
    "\n"
   ]
  },
  {
   "cell_type": "markdown",
   "metadata": {},
   "source": [
    "### Import the developed package and other external packages"
   ]
  },
  {
   "cell_type": "code",
   "execution_count": 1,
   "metadata": {},
   "outputs": [],
   "source": [
    "# Import packages \n",
    "from KAM_project_4.kam_classification_tools import *\n",
    "import sklearn\n",
    "%matplotlib inline \n",
    "%matplotlib qt"
   ]
  },
  {
   "cell_type": "markdown",
   "metadata": {},
   "source": [
    "### Housekeeping Step"
   ]
  },
  {
   "cell_type": "code",
   "execution_count": 2,
   "metadata": {},
   "outputs": [],
   "source": [
    "# Housekeeping : delete all python objects before starting\n",
    "for f in glob.glob('..\\\\Intermediates\\\\*'):\n",
    "    os.remove(f)"
   ]
  },
  {
   "cell_type": "code",
   "execution_count": 3,
   "metadata": {},
   "outputs": [],
   "source": [
    "excel_file = \"scraped_textual_data.xlsx\"\n",
    "es_sent = [0.99] ; es_kam = [1.0]\n",
    "\n",
    "# Choose KAM Item\n",
    "my_item = 'kam_description'\n"
   ]
  },
  {
   "cell_type": "markdown",
   "metadata": {},
   "source": [
    "## KAM Classification Steps"
   ]
  },
  {
   "cell_type": "markdown",
   "metadata": {},
   "source": [
    "### Perfrom text preprocessing steps and generate the initial output from the 1st step of DBSCAN."
   ]
  },
  {
   "cell_type": "markdown",
   "metadata": {},
   "source": [
    "#### Run the following block for the full-sample data"
   ]
  },
  {
   "cell_type": "code",
   "execution_count": 4,
   "metadata": {
    "scrolled": false
   },
   "outputs": [
    {
     "name": "stderr",
     "output_type": "stream",
     "text": [
      "P:\\PCAOB Staff\\Interns\\luke\\zoe\\Scripts\\KAM_project_4\\kam_classification_tools.py:197: RuntimeWarning: All-NaN axis encountered\n",
      "  data.sic_code = data[['sic_code','siccode']].apply(lambda x: np.nanmax(x),axis=1)\n"
     ]
    },
    {
     "name": "stdout",
     "output_type": "stream",
     "text": [
      "Text Preprocessing...\n",
      "Training...\n",
      "\n",
      "\n",
      "Done\n",
      "\n",
      "Iterations corresponding to n-gram = (1, 6)\n",
      "Number of iterations needed: 2\n",
      "Number of sentences in the noise group in each iteration: [4346, 4312]\n",
      "-----------------------------------------------------------------------------------\n",
      "\n",
      "Iterations corresponding to n-gram = (1, 5)\n",
      "Number of iterations needed: 3\n",
      "Number of sentences in the noise group in each iteration: [4312, 4254, 4252]\n",
      "-----------------------------------------------------------------------------------\n",
      "\n",
      "Iterations corresponding to n-gram = (1, 4)\n",
      "Number of iterations needed: 2\n",
      "Number of sentences in the noise group in each iteration: [4252, 4159]\n",
      "-----------------------------------------------------------------------------------\n",
      "\n",
      "Iterations corresponding to n-gram = (1, 3)\n",
      "Number of iterations needed: 3\n",
      "Number of sentences in the noise group in each iteration: [4159, 4012, 4008]\n",
      "-----------------------------------------------------------------------------------\n",
      "\n",
      "Iterations corresponding to n-gram = (1, 2)\n",
      "Number of iterations needed: 3\n",
      "Number of sentences in the noise group in each iteration: [4008, 3868, 3864]\n",
      "-----------------------------------------------------------------------------------\n",
      "\n",
      "Iterations corresponding to n-gram = (1, 1)\n",
      "Number of iterations needed: 4\n",
      "Number of sentences in the noise group in each iteration: [3864, 3293, 3275, 3273]\n",
      "-----------------------------------------------------------------------------------\n"
     ]
    },
    {
     "name": "stderr",
     "output_type": "stream",
     "text": [
      "P:\\PCAOB Staff\\Interns\\luke\\zoe\\Scripts\\KAM_project_4\\kam_classification_tools.py:416: RuntimeWarning: All-NaN axis encountered\n",
      "  original_data.sic_code = original_data[['sic_code','siccode']].apply(lambda x: np.nanmax(x),axis=1)\n"
     ]
    },
    {
     "name": "stdout",
     "output_type": "stream",
     "text": [
      "\n",
      "Output Filename:  kam_description_report_1.0_1371.xlsx\n"
     ]
    }
   ],
   "source": [
    "for f in glob.glob('..\\\\Intermediates\\\\*'):\n",
    "    os.remove(f)\n",
    "    \n",
    "df_sent = transform_and_train(file = excel_file, my_item = my_item, e = es_sent[0],music=False) \n",
    "\n",
    "df_sent_final = seqNoisesClassfication(es_sent[-1],my_item,df_sent,      my_gram = (1,6))\n",
    "df_sent_final = seqNoisesClassfication(es_sent[-1],my_item,df_sent_final,my_gram = (1,5))\n",
    "df_sent_final = seqNoisesClassfication(es_sent[-1],my_item,df_sent_final,my_gram = (1,4))\n",
    "df_sent_final = seqNoisesClassfication(es_sent[-1],my_item,df_sent_final,my_gram = (1,3))\n",
    "df_sent_final = seqNoisesClassfication(es_sent[-1],my_item,df_sent_final,my_gram = (1,2))\n",
    "df_sent_final = seqNoisesClassfication(es_sent[-1],my_item,df_sent_final,my_gram = (1,1))\n",
    "final_kam_group, label_df, orig = kamClassifcation(df_sent_final,my_item,excel_file ,es_kam,output=True)\n",
    "\n",
    "# print(genSummaryTable(my_item,df_sent_final,final_kam_group,groubp_filer = ['kam_acct_topic'],output=True))"
   ]
  },
  {
   "cell_type": "markdown",
   "metadata": {},
   "source": [
    "### Export the table"
   ]
  },
  {
   "cell_type": "code",
   "execution_count": 5,
   "metadata": {},
   "outputs": [],
   "source": [
    "\n",
    "paragraph = final_kam_group[['kam_id','text']].copy()\n",
    "df_sent_para = pd.merge(df_sent_final,paragraph,on=\"kam_id\",how=\"left\")\n",
    "df_sent_para.rename(columns={'text':'KAM component'},inplace=True)\n",
    "df_sent_para['word_count_sentence'] = df_sent_para['sentence'].apply(lambda x: len(x.split()))\n",
    "df_sent_para['word_count_paragraph'] = df_sent_para['KAM component'].apply(lambda x: len(x.split()))\n"
   ]
  },
  {
   "cell_type": "markdown",
   "metadata": {},
   "source": [
    "## Visualization"
   ]
  },
  {
   "cell_type": "code",
   "execution_count": 64,
   "metadata": {
    "scrolled": false
   },
   "outputs": [
    {
     "data": {
      "image/png": "iVBORw0KGgoAAAANSUhEUgAABE8AAAJ0CAYAAADjzw1DAAAABHNCSVQICAgIfAhkiAAAAAlwSFlzAAALEgAACxIB0t1+/AAAADl0RVh0U29mdHdhcmUAbWF0cGxvdGxpYiB2ZXJzaW9uIDIuMi40LCBodHRwOi8vbWF0cGxvdGxpYi5vcmcv7US4rQAAIABJREFUeJzs3XdcVuX/x/H3DYg4QXLk3qI5WO4UXLlyhSaZqamV5fyWmaWl5gw1c+aMXGVu09QyHKmlGKbmLk3cgqmogMr8/cHjPj9ugRO4kdfz8egRnHPd51wHy/Phfa7rOpbExMREAQAAAAAAIFV2j7sDAAAAAAAATzLCEwAAAAAAABOEJwAAAAAAACYITwAAAAAAAEwQngAAAAAAAJggPAEAAAAAADBBeAI8INOmTZObm5vc3Ny0atWqFPv37NmjKlWqGG3ef/993f2m8JCQEGO/m5ubDh48mOb5unTpYtP23XffTdHm22+/tWnj5uaW4esKCQnRwIED1aBBA1WpUkXVq1dXp06dtHjxYsXExGT4eHhwrl69qsDAwHS3b9Sokdzc3FS9evWH2Kt78yT3DQBw/xITE7VmzRp1795dderUUeXKlVWzZk116tRJCxYseOQ1RUxMjObOnauoqKhHet5HzVr/tW3b9nF3JYUnuW9AahwedweArODEiRPq06ePYmNjJUkNGjTQZ599JovFYtNuzZo1Nt+vXLlSVatWTdc59uzZk65t6ZWQkKCxY8dq0aJFNttjY2P1xx9/6I8//tDKlSsVGBiofPny3fN5cG8WLFigadOmqWjRourRo8fj7g4AAGlKSEjQu+++qx9//NFm+/Xr142aYuPGjQoMDFTOnDkfen9+/fVXjRw5UqGhofL393/o5wPwdGDkCfCQhYeH66233tKNGzckSd7e3poyZYocHGyzy9u3b6coKtavX687d+6k6zz//vuvTpw4YbPt999/v+d+T5482QhOXFxc1LdvX02aNEn9+/c3wpIjR47ogw8+uOdz4N6NHTtWN2/efNzdAADgP61bt86ocUqVKqXBgwfriy++0MCBA1WgQAFJ0r59+zRv3rxH0p9Zs2YpNDT0kZwLwNODkSfAQxQVFaVevXrp/PnzkpKGJ86aNUtOTk4p2gYFBRm/DBcoUECXL1/WjRs39PPPP6tVq1ZpnsPZ2Vk3b95UQkKCdu/erXLlyklKGu3y77//SpLy5cuna9eupbvfoaGhmjt3rvHZFStWqFixYsb+Nm3aqEOHDoqIiND27dt1+PBhVa5cOd3HBwAAWceWLVuMr2fPnq1SpUoZ31unA0tJtVD//v0fdfcAIF0YeQI8JHFxcRowYICOHDkiSSpRooS++uor5c2bN9X2q1evliTZ2dlp7NixxvbU1k9JLnfu3MZaJsHBwcZ269d2dnby8vLKUN+XLl2qhIQESdKbb75pE5xIUvHixfXWW2/Jz89PAQEBKly4sM3+8+fPa9SoUWrcuLGqVq2qunXrasCAATp8+LBNu3PnzhnzXefMmaPg4GC98sorcnd3V8OGDY31PI4fP64ePXrIw8NDdevW1YgRIxQdHZ3qcaZNm6aQkBB17txZ7u7uql+/viZMmKDbt2+nuM5bt25p1qxZat26tTw9PVW9enV17do1xQgg6f/XmHnhhRd069YtjR8/Xj4+PqpWrZo6dOigX375JcVnIiMjNWHCBDVq1EhVqlSRj4+PPv74Y126dMmm3apVq4z+h4SEaNOmTfLz81O1atXk6+urSZMmGXPBg4ODbdauOXbsmNzc3PThhx+m/INMp8TERC1ZskRt27ZV1apVVbNmTfXq1Uv79+832hw8eNB0fZ2PPvrI2H/s2DFj+65du9StWzd5enrK09NTHTt2TDE9DQDwdLt165bx9bZt22zWfPPy8tK4ceM0evRovfnmm8b29NybJNsa4Msvv9SxY8f05ptvysvLSzVr1tT777+vsLAwo72bm5vNtOYaNWqoUaNGD/28VleuXNHo0aNtaoN33nlHBw4cSNH2zJkzGjhwoGrXrq2qVauqefPmmj59eqo1TUbFxMRo9uzZat68uapUqaI6dero3Xff1cmTJ402P/74o3GNEydOTHGMrl27ys3NTVWqVNHVq1eN7Rs3bpS/v7/c3d3l7e2trl27plonAZkNI0+Ah2TEiBHasWOHpKTRG4GBgcbQ1LuFhYXpt99+kyTVrFlTPj4+qlChgv766y/t2rVLFy5cUJEiRdI8V/Xq1XX06FHt2bNHiYmJslgsRnhSoUKFNAObtCSf7lO/fv1U2/Ts2TPV7Xv37tU777yj69evG9uuXLmiH3/8UUFBQRo3bpzatGmT4nM7duzQ5MmTFR8fL0m6cOGCAgICdPr0aa1du9YIS27duqUlS5bo2rVrmjJlSqp9nzVrluLi4iQlTYeaN2+eDh48qK+//lr29vZGn15//XX99ddfNp8PDg5WcHCwOnXqpBEjRqQ4fmxsrHr27Km9e/ca2w4ePKh33nlHq1atUsWKFSUlBSevvvqqjh8/brQLCwvT8uXLtXXrVn377bcqWbJkiuMvWbJEP/zwg/H9pUuXNHv2bMXGxmrw4MEp2j8IQ4YMsQnpYmJitG3bNu3cuVOTJ0/WCy+8oKpVqxr/TW7dulXR0dHGvPSYmBj9/PPPkqSKFSsaP4OVK1fq448/NoI4STpw4IAOHDig48ePP7TrAQA8Wby9vY1fnseNG6fFixercePGqlOnjmrUqCE/P78Un0nPveluBw8e1Jw5c2zCmnXr1umff/75z4dRj+K8Fy5cUKdOnWweooSFhSksLEw7duzQ7Nmz9fzzz0uSjh49qm7dutnUU6dOndK0adO0c+dOLVy4UI6Ojum6prvFxcXp7bff1q+//mpsu3r1qjZs2KBt27YpMDBQnp6eatSokVxcXBQREaENGzZo4MCBxnp9YWFhRr3o4+MjV1dXSdL06dM1bdo0m/NZa6uPP/5YXbp0uac+A08CRp4AD8HChQu1fPly4/uoqCjjl/nUfP/998YvmNYpOq1bt5aUtMjaf93wrW8oiYiI0PHjx5WYmGjc0GrUqJHh/p89e9b4unjx4un+XGRkpN577z3jRt+qVSsFBASoe/fucnBwUFxcnIYMGWLzVMNqz549cnd3V0BAgE248t133ylXrlwaPny4BgwYYKwVs2nTJkVGRqY4TnBwsAoXLqwRI0boo48+kouLi7E9+Z/JJ598YgQnHh4eGj16tAYNGmSs57JkyRKtWLEixfEvXryoI0eOqH///ho/frwx9Dg+Pl7Lli0z2k2ePNkITvz8/DRx4kQNGDBAuXLl0r///qvhw4en+jP84Ycf9MILL2jixIl66aWXjO3W0UDly5fXjBkzjO1FixbVjBkz7rkY2bRpk/Hfl7e3tz777DMNHz5cJUuWVFxcnIYOHWr8nNu3by8pKcDavHmzcYytW7caU86sfQ4LC9Onn36qhIQEFS1aVB9//LECAgJUp04dSVJgYKBCQkLuqc8AgMylc+fOKl26tPH92bNnNX/+fPXq1Uu1a9dW//79bR5mZOTelNyWLVtUokQJjRkzRu+9957s7JJ+1Tl8+LDxBsMZM2aofPnyxmcmTJigkSNHPvTzStLw4cON4KRRo0YKCAhQ7969ZW9vr9jYWA0fPtyoBwcPHqzr16/LyclJffr00eeff65XXnlF0v2vD7No0SIjOGnUqJHGjx+vDz/8UPnz51d0dLQ+/PBDJSQkyNHR0ahHz58/r3379hnHWL9+vdFXa/h18OBBTZ8+XVLSw7tRo0Zp7NixxtTugIAAmxoTyGwYeQI8BEePHrX5PiYmRiNGjNCCBQtSbW+dxpAtWzY1bdpUUlLwMGnSJCUmJmr16tXq06dPirfzWCV/vevu3btlZ2dnDJ+sXr26tm3blqH+Jy8MsmfPnu7PbdiwwSgKOnbsqFGjRhn7ihcvrpEjRyo2Nlbz58+32SdJefLk0bx585QrVy61atVKP//8s/EEJyAgwHgSs2fPHu3atUsJCQkKDw9X7ty5bY6TLVs2LViwQEWLFpWUNBKiW7dukpKeAr3yyis6deqU8ct/uXLltHjxYmXLlk2SVK9ePfn5+Sk+Pl5z5sxRhw4dUlzn4MGDjfnZhQsXNoKLM2fOSEp6omMtvurUqaNx48YZn82ZM6fGjRunXbt26ezZsynCKQ8PD02bNk0Wi0UtW7bU3r17debMGUVFRenq1avKnz+/mjRpYvNzS/59RlkDn5w5cyowMNBYj8fT01Pt2rXT9evX9dNPP6l9+/Zq06aNJk6cqNjYWK1fv94oqKwjZRwcHIxt33//vbHY8fjx443/Rl988UX5+Pjo6tWrWr58Oa8mBoAsIHfu3Prmm280duxYbdy40RhlKiXVSD/99JO2bdum6dOny8fHJ0P3puRy5sypBQsWGA9CQkNDjfvx2bNnVbVqVTVp0sSmHmvQoIExQvdhnjcsLEzbt2+XJD333HOaOXOm8fnY2Fj9+eefeu655xQREaGzZ88aD2B69eql3r17S0qqDS9fvqzNmzdr+fLlxvaMsl5nqVKlNGPGDCPsKV68uPr06aPQ0FDt2bNHtWvXVvv27Y0XCKxfv96YCm699+fLl0++vr6SpBUrVhhTsubOnatnn31WkoxRRrGxsVq9ejXr2iDTIjwBHhInJyd98cUXGjJkiK5du6bdu3fr+++/T/Eu+z///NMYieHj4yNnZ2dJUpEiReTt7a2QkBCdO3dOwcHBql27dqrnyp8/v0qVKqXQ0FDt3r3b5k0+aYUnJ0+e1KlTp1L0uV69enJycjIClOjo6BQBRVqSr7ly96v/Xn75ZY0ZM0bx8fGpvgWoYsWKypUrl6SkX8KdnZ1169YtWSwWm9Ezyac+WdcBSc7d3d0ITiSpdu3axpBT61Ot5HOd27dvbwQn1n54eHho7969On36tC5fvpxiupU1yJGkMmXKGF9bw4JTp04pKipKUtKaH8nXKEnuwIEDKcKTOnXqGCGZvb29SpYsaYQy6XnzUkhIiCIiImy2FS5cOM0FfQ8dOiQp6c/Z3d09zX62b99erq6u8vX1VVBQkHbu3KmIiAjZ29sb/335+PjomWeesTmulPTEMTV3zx8HADy9nnnmGX3++ecaPHiwtm7dql9//VW7d+82RqveuXNHH330kbZu3Zqhe1NylSpVMgIMSTajXdJzD32Y502+7lu9evVsPv/+++/bfL9x40bj6ylTpqQ6TfnChQsKDw9XwYIFtXPnzhTroJQuXVply5ZN8bmoqCj9888/kpJCnkqVKqV5nbVr11alSpVUqVIlHT16VBs3btSQIUN0+vRp43patWpl1FHJ7/3WQCW14wKZFeEJ8BA4ODho8uTJatiwofr162cMBw0ICFCDBg2MgET6/4ViJWnz5s1p/qK9atWqNMMTKWl6TmhoqEJCQownCKVLl1b+/PlTbb9hwwZjaKVV0aJFtWXLFhUpUsQIGs6dO2esYZHcsWPHFBUVJS8vL+OX/eS/tBcqVMimvaOjo/Lly6d///3XZv6u1d0BjXVtkhw5ctjM6bVul2Sz4JxV8p+tlaurqyIiIox1U8z6efe269evpwhP8uTJY3Ndd0vt+lITHh6eYtvd69MkP35q13u3KVOm2IRDUtJUms8++yzV9tZXaKe3n35+fgoKClJsbKw2bdoke3t7I8RKPmc9o8cFADzdrl+/rri4OBUsWFD+/v7y9/dXfHy8tm7dqqFDhyoiIkL//vuv/vjjj3u+h9zvPfRhntc6vVWSTdCSmozUEQULFtSwYcOMNzta9e3bV/369UvxmeT9+K9jW/n5+WnMmDG6cuWKdu/ebbPuG/d+ZCWEJ8BD0K9fPzVs2FBS0giMxYsX659//tGVK1c0ceJEY8pKTEyMNmzYkK5jbtq0ScOGDUtzFEj16tW1fPly3bx50xgJcC/rnVg/Zw1Pdu7cmWp4MnfuXP3www8qWLCgAgICVLduXWOxMClpzYu7R4lYpxIlb2dlDXzuljwsSY/UbsrW81pDj7v7ebfk21Lr63/1KfmfUZ06dfTaa6+l2i75qBWrtH4OD0uuXLl048YN5c+fX59++mmqbZIXeb6+vsqfP7/+/fdfBQUFGaOcXFxcbJ4yWUcRSdLo0aP/s1AEADydzp8/r+bNmysmJkZVq1a1WU/M3t5eTZo0UUhIiL7++mtJSffsjN6brO73Hvowz5v8wcvdI0SvXr2qqKgoFStWTBaLxeYe2rVrV9WqVSvVYyYfaZteyY9doUIFDRgwINV2yV9U0Lp1a40fP16xsbEKCgrSH3/8YXz+ueeeS3Fse3t7TZkyJdXp5jly5Mhwn4EnBeEJ8BAULFjQ+NrBwUGDBg3SO++8I0lavny5XnrpJXl5eWnr1q3GDdTT09NmOojVjh07dODAAd26dUvr169PMR3GKvnaEda5xGbrSfTr1y/VJxJS0nol33zzjaSkhT1ffPFFm9cR79+/33id79WrV41FUz08PLR27VpJSfNpq1SpYnxmxYoVxsJi9xrqpMfhw4d18uRJY6jq3r17jZ+xNQTy9PQ02q9evVpdu3Y1QoC//vrLmE5StmzZVMOT/1KmTBk5OTnp9u3bunTpknx9fY0hrUuWLNGpU6dUvnz5+woULBaLEhMTUzxJs85LTq9KlSopODhYERERcnNzM6YRhYSEaO3atSpXrpzN8GMHBwe1adNGgYGB2rVrl/Fza926tc2TtkqVKikoKEhS0jo01nVZrl+/rtGjR6tcuXI2fw4AgKdTkSJF5OLiovDwcB06dEi7du0yFg+XkmqW5AuRFitWLMP3poxK/kt98vvowzxv8pBhx44devfdd41+zJkzR19//bVy5sypr7/+2qZtVFSUzdpmY8aMUc6cOeXm5mYsir9ly5Z09yNPnjwqVqyYzp07p/DwcNWsWdMYOfPTTz8pODhY5cqVs5numy9fPjVq1Eg//fSTNmzYYNRVd78lyTq9Jz4+Xvny5TPq0H/++Udz585V+fLlVbNmzXT3FXjSEJ4Aj0CjRo1Uq1YtBQcHKzExUcOHD9fq1attpuz07t1bPj4+KT5buXJlI3hZtWpVmuFJsWLFVLhwYV28eNHYdq8hRcWKFdWlSxctWrRIV65ckZ+fn7p06aKSJUvq+PHjWrRokfH2oFdffdV4OvHiiy9q2rRpunbtmpYuXapbt27p+eef1/Hjx7Vw4UJJSQvQdu/e/Z76lR4JCQnq3r273nrrLSUmJmr27NnGvnbt2klKWiTW+ufx119/6bXXXlP79u1148YNzZs3zwif3n777Xvqg6Ojo1588UWtXLlSp06dUs+ePeXn56fw8HBNmzZNMTExcnV1Nd6sdC9y5Mih6OhonT17VitXrpSzs/M9LRzr5+en4OBgxcXFqXv37urevbscHR315Zdf6sKFC5Jk85Yi62cCAwMVExNjTNlJ/mYgSWrbtq1mzZql2NhYffrppzp37pxKliyppUuXGmveDBo0iCIKAJ5yFotFXbt21cSJE5WYmKjevXvrlVde0XPPPaebN29q3bp1xkOL8uXLq2rVqvd0b8qI5KMfFi1apGeeeUadOnV6qOd99tlnVa9ePe3cuVNHjhzRG2+8odatW+vs2bNavHixpKSRq1WrVpXFYjHWslu1apXs7OxUu3ZtBQcHG4u9+vr6qmXLlvfUFz8/P02dOlURERHq1q2bXn31Vd2+fVvTpk3T9evXlS1bNjVq1CjFZ3766ScjOEm+SLxV+/btjYVy+/fvrzfeeEOurq4KDAw0FsCdPHmyzcM1IDMhPAEekQ8//FDt27dXQkKC/vrrLwUGBmrHjh2SkqY81K1bN9XP1a9f31jwdP/+/TajKu7m7e1trH5etGhRmyGX99Lf6OhorVy5UlevXk11sTJfX18NGjTI+N7FxUWTJk1Sv379FBkZqbVr1xojUaSkEQgBAQEqWbLkPffrv5QsWVLh4eEp3ubj4+Njs1jv+PHj1a1bN4WGhmrfvn02T70kqVu3bjavTM6o999/X3v37lVoaKiCg4NtFtN1cHDQqFGj7mvoaqVKlbR3715FR0dryJAhev755+8pPGnbtq02b96sTZs26ezZs8b6PFY9evRQtWrVbLZZi1vr6xcrVKiQYkHa4sWLa9CgQRo7dqyio6M1bdo0m/3Vq1dPczoTAODp0r17dx04cEA///yzoqOjFRgYmKKNs7OzPv/8c1kslnu6N2VEpUqVjCnO06ZNk6Ojo1555ZWHft5PP/1UnTp1Unh4uHbu3KmdO3ca+xwcHDR+/HhjavBnn32m7t2769atW1q+fLlNaFOgQAENHTr0nvvRs2dP7dixQ/v27dORI0f08ccf2+z/8MMPjTflWNWvX18FChTQ5cuXje/vXlevevXq6tatmxYsWKArV64oICDAZn/z5s3VrFmze+438Lg92sn1/yEsLEze3t6aP39+qvvXrFmjdu3aycPDQz4+Pho3bpzxRou7bdu2Tf7+/vL09FSdOnU0ZMgQXblyJUW7ffv2qW3btnJ3d1eHDh2MOXzJxcTEqFGjRmkuuAikx3PPPWfzy/uXX35pjN544YUXbN6Qk1y2bNnUokUL4/vkc4Xvlnykyf2+AtbBwUFjx45VYGCgXnjhBRUoUMB4C06dOnU0fvx4zZ49O8WCqXXr1tXatWvVpUsXFS9eXI6OjnrmmWfUokULrVixwuZaHoZy5cpp0aJF8vLykqOjowoVKqS3335bM2bMsBmm++yzz2rNmjV67733VLFiReXIkUO5c+dWrVq1NGPGDA0ZMuS++uHq6qply5apR48eKlmypPFz8PX11cKFC+/r9cKSNGzYMNWoUUM5c+aUi4uLMXUqoywWiyZPnqxPPvlElStXVs6cOZUnTx65u7srICBAgwcPTvVzyYfq3j3qxKpbt26aM2eO6tatK2dnZ2XPnl1lypRRv379NGfOHOMVkMCThnoEeLAcHBw0bdo0TZgwQfXq1ZOrq6scHByUJ08eubm56Y033tDGjRuNRfPv9d6UXj169FCLFi2UL18+5cyZU1WrVtWdO3ce+nmLFSumlStX6tVXX1XhwoWVLVs2FS5cWE2bNtXy5cttpjN5enpq5cqVatWqlQoUKKBs2bKpaNGievnll7V06dL7ehDl5OSk+fPna8CAASpfvrycnJzk4uKimjVravbs2ak+3LC3t7epY9O69w8ZMkQTJkyQl5eXcuXKpZw5c6pixYoaOnSoJk6c+MjXdgMeJEtiepaefgSioqKMVPqjjz7S66+/brN/9uzZmjRpktzc3OTj46O//vpLv/zyizw9PbVw4UKbX+B++OEHDRw4UMWLF1fTpk118eJF/fjjj8ZfWNZ5fbdv31bjxo2VLVs2NW/eXNu3b9fFixe1adMmm4UuFy9erM8//1ybN2++p/UPADxc586dU+PGjSVJjRs31pdffvmYewQgs6IeAQAAqXkipu2cP39e/fr1s3n/eXIXLlzQ1KlT5enpqUWLFhkLL06ZMkVffvmlli1bZiSkUVFRGjVqlIoXL641a9YYb714/vnnNXToUM2cOdNIjbdu3ap///1Xy5Ytk7u7u7p3764GDRpo3bp16tGjh6SkgmbWrFnq2rUrhQoAAE8x6hEAAJCWxz5uav78+WrdurWOHTum2rVrp9pm6dKliouLU69evYxCRUpazDF37tw2cwDXr1+viIgIvf766zavC+3QoYNKly6tVatWGYtBnjt3TtL/v4GjUKFCcnV1NbZLSYtI3blzxyheAADA04d6BAAAmHns4cnChQtVtGhRLV682GYeXXLWNzPc/eaQ7Nmzy8PDQ8eOHdPNmzdt2qb2PvSaNWsqIiJCf//9t6SkhakkGfOUExMTFR0dbbyHPTIyUvPmzVP37t2NtgAA4OlDPQIAAMw89vDk008/1Zo1a+Tl5ZVmmzNnzih//vw2T26sihYtKkk6deqUJOns2bOSZLyXPblixYrZtLWulj137lxFRUVp0aJFio6ONvry9ddfy2KxqFu3bvd6eQAegWLFiun48eM6fvw4650AuCfUIwAAwMxjX/Okfv36/9kmIiLCKDTulvypjCRdu3ZNjo6Oqb7FwVrsWNtWrFhRnTt3VmBgoPHKtBYtWsjX11fXrl3T/Pnz1bt3b+XKlUuSlJCQwArRAAA8hahHAACAmccenqRHXFxcitehWlm337lzJ8NtpaTXfb7wwgs6evSoypYtK19fX0lJT39y5Mihzp0768qVKxo8eLB+++03OTs7q3fv3urSpUu6+p6YmKgn431GAAA8WezsLP/d6AlCPQIAwNMnvfVIpghPnJycFBsbm+q+mJgYSVKOHDky3NaqTp06Nu9Vv3z5sr755ht98MEHcnJy0ocffqgTJ05o6tSpOn78uEaPHq3y5cunuaBccnFxCYqIiP7viwQAIIspUCDP4+5ChlCPAADw9ElvPZIpxnzmzZvXWIDtbtbt1uGyefPm1Z07d4zCJDnr8Fhr27TMnDlTzzzzjF5++WVdv35dmzZtUs+ePdWkSRP16dNHzz33nL799tv7uSQAAJDJUI8AAJB1ZYrwpFSpUrpy5Ypu376dYt/58+dlZ2enkiVLGm0l2bzez8q6rXTp0mme6/z581q2bJneeecdOTo66uzZs4qPjzeObz3HmTNn7ueSAABAJkM9AgBA1pUpwhNvb28lJCQoJCTEZvudO3e0f/9+lStXzlh8zdvbW9L/vyIwueDgYOXJk0dly5ZN81zTp09X0aJF9dJLL0mS4uPjbf5tPa/FkrnmaQMAgPtDPQIAQNaVKcKT1q1by97eXtOnT7cZ/jpr1ixFRkbK39/f2NakSRPlypVL8+bNU0REhLF9xYoVCg0N1csvv5zmCvWnTp3S999/r759+8rBIWk5mJIlS8rOzk779++XlLQA3KFDh4wnSgAAIGugHgEAIOvKFAvGlilTRj169NDcuXPVrl07NWzYUCdOnNC2bdvk5eWljh07Gm1dXFw0aNAgjRgxQu3atVOLFi0UFhamjRs3qlSpUurVq1ea55k6darKlCmjF1980eZ4TZo00VdffaWIiAiULOljAAAgAElEQVSdPHlSYWFheu211x7qNQMAgCcL9QgAAFlXpghPJGngwIEqXLiwvv32Wy1cuFAFChTQ66+/rr59+6Z4FWCnTp3k7OysefPm6ZtvvpGzs7PatWund999Vy4uLqke/9ixY9q4caOmTp2a4knQmDFjNGzYMK1Zs0YuLi4aPXq0MRwXAABkHdQjAABkTZbExMTEx92Jp1lsbDyvBgQAIBWZ7VXFmRn1CAAAqXuqXlUMAAAAAADwuBCeAAAAAAAAmCA8AQAAAAAAMEF4AgAAAAAAYILwBAAAAAAAwAThCQAAAAAAgAnCEwAAAAAAABOEJwAAAAAAACYITwAAAAAAAEwQngAAAAAAAJggPAEAAAAAADBBeAIAAAAAAGCC8AQAAAAAAMAE4QkAAAAAAIAJwhMAAAAAAAAThCcAAAAAAAAmCE8AAAAAAABMEJ4AAAAAAACYIDwBAAAAAAAwQXgCAAAAAABggvAEAAAAAADABOEJAAAAAACACcITAAAAAAAAE4QnAAAAAAAAJghPAAAAAAAATBCeAAAAAAAAmCA8AQAAAAAAMEF4AgAAAAAAYILwBAAAAAAAwAThCQAAAAAAgAnCEwAAAAAAABOEJwAAAAAAACYITwAAAAAAAEwQngAAAAAAAJggPAEAAAAAADBBeAIAAAAAAGCC8AQAAAAAAMAE4QkAAAAAAIAJwhMAAAAAAAAThCcAAAAAAAAmCE8AAAAAAABMEJ4AAAAAAACYIDwBAAAAAAAwQXgCAAAAAABggvAEAAAAAADABOEJAAAAAACACcITAAAAAAAAE4QnAAAAAAAAJghPAAAAAAAATBCeAAAAAAAAmCA8AQAAAAAAMEF4AgAAAAAAYILwBAAAAAAAwAThCQAAAAAAgAnCEwAAAAAAABOEJwAAAAAAACYITwAAAAAAAEwQngAAAAAAAJggPAEAAAAAADBBeAIAAAAAAGCC8AQAAAAAAMAE4QkAAAAAAIAJwhMAAAAAAAAThCcAAAAAAAAmCE8AAAAAAABMEJ4AAAAAAACYIDwBAAAAAAAwQXgCAAAAAABggvAEAAAAAADABOEJAAAAAACACcITAAAAAAAAE4QnAAAAAAAAJghPAAAAAAAATBCeAAAAAAAAmCA8AQAAAAAAMEF4AgAAAAAAYILwBAAAAAAAwAThCQAAAAAAgAnCEwAAAAAAABOEJwAAAAAAACYITwAAAAAAAEwQngAAAAAAAJggPAEAAAAAADBBeAIAAAAAAGCC8AQAAAAAAMAE4QkAAAAAAIAJwhMAAAAAAAAThCcAAAAAAAAmCE8AAAAAAABMEJ4AAAAAAACYIDwBAAAAAAAwQXgCAAAAAABgItOFJ9euXdPw4cNVv359ValSRY0aNdL48eN169Ytm3ZxcXGaP3++WrZsqWrVqqlx48aaMWOGYmNjUxxz2bJl8vX1lbe3t9555x2FhYWlaHPy5ElVqlRJW7ZseWjXBgAAMgfqEQAAshZLYmJi4uPuRHpFRUWpQ4cO+ueff1SrVi1VrlxZ+/bt0759++Tp6anFixfLwcFBkjRs2DAtXbpU3t7e8vLy0h9//KG9e/eqWbNmmjp1qnHMQ4cOqX379nJ3d5eHh4fWrFmjEiVKaPny5bJYLEa7/v3769KlS1q2bFmG+hwbG6+IiOgH8wMAAOApUqBAnsfdhXtCPQIAwNMjvfWIw0PuxwO1dOlS/fPPP+ratauGDh0qSUpMTNSgQYO0bt06rVu3Ti+99JL++OMPLV26VM2aNdOUKVNksViUmJioDz/8UGvWrNHWrVvVsGFDSdLKlSvl7OyshQsXysnJSe7u7nrvvfd0+PBhValSRZJ0+PBhbdq0SV999dVju3YAAPBkoB4BACDryVTTdg4ePChJat++vbHNYrHo5ZdfliTt379fkvTNN99Ikvr27Ws8rbFYLHrvvfdksVi0fPly4/Pnzp1TqVKl5OTkJEmqWLGisd1q8uTJqlGjhp5//vmHdWkAACCToB4BACDryVThiYuLiyTpwoULNtutc4JdXV0lSSEhIcqXL58qVKhg065QoUIqVaqUfv/9d2Nb3rx5FR39/8NYo6KiJEl58iQN3dm7d6+2b9+uAQMGPOCrAQAAmRH1CAAAWU+mCk/at2+vbNmyady4cdq7d69u3bql4OBgTZw4UXny5FH79u0VExOjS5cuqUSJEqkeo2jRorpx44auXr0qSfLw8NDff/+tn3/+WZGRkZo/f75y5MihSpUqSUp6ylOvXj1Vr179kV0nAAB4clGPAACQ9WSqNU+qVKmir7/+Wu+9955effVVY3uRIkW0ZMkSFStWTOHh4ZL+/0nN3azbb968KVdXV3Xs2FGrV69W3759JUl2dnYaOnSoXF1d9euvv2rPnj02w2oTEhJkZ5epMicAAPAAUY8AAJD1ZKrw5MqVK5o0aZIuX76shg0bqnTp0jp06JD27NmjYcOGafbs2YqLi5MkOTo6pnoM6/Y7d+5IkrJnz67vvvtOQUFBCg8PV40aNVS5cmVJSU95mjRpomrVqunPP//UkCFDdOLECZUuXVojRoxQrVq1HsFVAwCAJwn1CAAAWU+mCk8GDhyoP/74Q1988YVatmxpbJ8/f77GjRunTz75RMOHD5ckxcbGpnqMmJgYSVKOHDmMbY6OjjbHk6SgoCAdPHhQ33//vWJjY9WvXz+VLFlSc+fO1YoVK9S3b18FBQXJ2dnZtM/29ha5uOS8p+sFAABPHuoRAACynkwTnly6dEm7du1SjRo1UhQWr7/+upYvX65NmzZp9OjRsrOzU2RkZKrHuXnzpqS0h9FKSa8bnDJlilq2bCk3Nzdt3rxZly5d0pw5c+Tm5qZq1aqpTp06WrdunV577TXTfsfHJyoiItq0DQAAWVGBAmnfi59U1CMAADxd0luPZJrJshcvXpQklSlTJtX9ZcuWVUJCgsLDw1WkSBGbV/sld+7cOeXLl89YKT8169ev18mTJ9WvXz9J0unTpyVJpUqVkiQ5OzsrX758OnPmzL1eDgAAyISoRwAAyJoyTXiSP39+SVJoaGiq+0+fPi2LxaJnnnlG3t7eunz5sk6dOmXTJiwsTKdPn5aHh0ea54mLi9O0adPUtm1blS5d2tiW/N9S0hxli8VyP5cEAAAyGeoRAACypkwTnhQvXlyVK1fWnj17FBQUZLNv+fLlOnbsmOrVqycXFxe1a9dOkvTFF18oISFBUtLQ10mTJikxMVH+/v5pnmf16tU6f/68+vTpY2yzPl06cOCAJOnkyZO6efOm8eQHAABkDdQjAABkTZbExMTEx92J9Dp27Ji6dOmiyMhIY3X748ePa8eOHSpQoICWLFmi4sWLS5LeffddbdiwQdWqVVOtWrW0b98+hYSEqFmzZpoyZUqqT2liYmLUrFkz+fr6asSIEcb227dvq1mzZoqPj9eLL76oLVu26MaNG9q8ebNy585t2ufY2HjmGAMAkIrMuOaJRD0CAMDTJL31iP2I5HflJ1z+/PnVvHlz3bhxQyEhIdq9e7du3bqlVq1a6fPPP1eRIkWMto0bN5aDg4P27dunX3/9Vfb29uratas++ugjOTikvk7ut99+q6CgIE2dOtWmCHFwcFDdunW1d+9ebd68Wc8++6wmTpyokiVL/mefExISdft26ivtAwCQleXKlf1xd+GeUI8AAPD0SG89kqlGnmRGPOkBACB1mXXkSWZEPQIAQOqeurftAAAAAAAAPA6EJwAAAAAAACYITwAAAAAAAEwQngAAAAAAAJggPAEAAAAAADBBeAIAAAAAAGCC8AQAAAAAAMAE4QkAAAAAAIAJwhMAAAAAAAAThCcAAAAAAAAmCE8AAAAAAABMEJ4AAAAAAACYIDwBAAAAAAAwQXgCAAAAAABggvAEAAAAAADABOEJAAAAAACACcITAAAAAAAAE4QnAAAAAAAAJghPAAAAAACmfv11hwoWzJvmP/37v5PiMyNGfKwWLRql2P7XX8fVvHlDlSlTVK+91lHh4eE2+w8ePKBy5Yrr8uXLD+16gIwiPAEAAAAAmKpWzV0bNgSl+OfFF9soW7Zs6ty5m037adMm68svp6Z6rL5931KBAgUVGLhIV65c0SefDLbZP2LEx+rTp78KFCjw0K4HyCiHx90BAAAAAMCTLU+evKpevabNtt9+26mNG3/QqFHjVKtWbUnSyZN/a/jwodq8+Wflzeuc4jg3blzX/v379PPPv8jd3VNRUVF6//3+xv5NmzbqxIm/tWjR0od7QUAGMfIEAAAAAJAhcXFx+uCDd+Xp6aWePXsZ2wcOHKALFy5o9eoNqlKlaorPWSwWSZKTUw5JkqNjNsXHx0uS4uPjNWrUcH300SfKmTPnI7gKIP0YeQIAAAAAyJAFC77SX38d16ZN22Rn9//P5MeMGa/Klauk+bk8efLKza2ivvvuG/3vfwO1YsVS1apVR5K0aNF82ds7qGPHTg+9/0BGMfIEAAAAAJBu8fHxmjlzupo0aSoPDy+bfWbBidWUKV9q3bo1Kl++hE6d+kdjxoxXZGSkJkwYp+HDR+ncubN65RU/Pf98dQUEjDFGpgCPEyNPAAAAAADptnHjep05c1rTp8++p897eVVXSMhBRUVFKVeuXJKkceNGqkqVqmrYsLGaNvVVrVp1NHz4aL3xRlcVLFhI3bu/8SAvAcgwRp4AAAAAANJt7dpVKlGilGrXrntfx7EGJxcvXtCcObM0bNgonT4dqv3796lv33dVqdJz8vfvrLVrVz+IbgP3hfAEAAAAAJAu8fHxCgr6We3a+T2wY44dO1Jt2rRT5cpVdPlyuCTJ1dVVkpQvXz6Fh4c9sHMB94ppOwAAAACAdDl69IgiI28arya+X4cOHdQPP6zVb7+FSJIKFCgoSQoPD1PRosV06dJFYxvwODHyBAAAAACQLocPH5QkVahQ8YEcb8SIj9Wr1zsqXLiIJKlEiZKqVKmyRo78RJs2bdTixQvUsmWrB3Iu4H4QngAAAAAA0uXy5cuSJBcXl/s+1ubNm3TkyCH17fs/Y5vFYtHMmfN08uRJ9enTS82bt1T37m/e97mA+2VJTExMfNydeJrFxsYrIiL6cXcDAIAnToECeR53F7IM6hEAAFKX3nqEkScAAAAAAAAmCE8AAAAAAABMEJ4AAAAAAACYIDwBAAAAAAAwQXgCAAAAAABggvAEAAAAAADABOEJAAAAAACACcITAAAAAAAAE4QnAAAAAAAAJhwedwcAAAAAAKnLnTebcmR3etzdyBJu3bmtyBuxj7sbeEIRngAAAADAEypHdid5DPd43N3IEvZ/ul+RIjxB6pi2AwAAAAAAYILwBAAAAAAAwAThCQAAAAAAgAnCEwAAAAAAABOEJwAAAAAAACYITwAAAAAAAEwQngAAAAAAAJggPAEAAAAAADBBeAIAAAAAAGCC8AQAAAAAAMAE4QkAAAAAAIAJwhMAAAAAAAAThCcAAAAAAAAmCE8AAAAAAABMEJ4AAAAAAACYIDwBAAAAAAAwQXgCAAAAAABggvAEAAAAAADABOEJAAAAAACACcITAAAAAAAAE4QnAAAAAAAAJghPAAAAAAAATBCeAAAAAAAAmCA8AQAAAAAAMEF4AgAAAAAAYILwBAAAAAAAwAThCQAAAAAAgAnCEwAAAAAAABOEJwAAAAAAACYITwAAAAAAAEwQngAAAAAAAJggPAEAAAAAADBBeAIAAAAAAGCC8AQAAAAAAMAE4QkAAAAAAIAJwhMAAAAAAAAThCcAAAAAAAAmCE8AAAAAAABMEJ4AAAAAAACYIDwBAAAAAAAwQXgCAAAAAABggvAEAAAAAADABOEJAAAAAACACcITAAAAAAAAE4QnAAAAAAAAJghPAAAAAAAATBCeAAAAAAAAmCA8AQAAAAAAMEF4AgAAAAAAYILwBAAAAAAAwAThCQAAAAAAgIlMGZ6sXbtWHTp0kLu7u+rVq6f+/fvr1KlTKdqtWbNG7dq1k4eHh3x8fDRu3DhFRUWlaLd582Y1bdpUnp6e6tq1q06ePJmizdWrV+Xl5aVFixY9lGsCAACZC/UIAABZR6YLT7744gsNGjRIN2/e1KuvvqqaNWsqKChI/v7+OnfunNFu9uzZGjx4sBISEvTaa6+pYsWKmj9/vnr27KmYmBijXVhYmP73v/8pW7Zs8vf31+nTp9WzZ0/dvn3b5rxz585V3rx55e/v/8iuFQAAPJmoRwAAyFocHncHMuLPP//U7NmzVbNmTc2dO1dOTk6SpKZNm2rAgAGaMWOGxo0bpwsXLmjq1Kny9PTUokWLlC1bNknSlClT9OWXX2rZsmV67bXXJEnr1q1TXFycAgMDVahQITVv3lz+/v765Zdf1KxZM0lJBc23336roUOHytHR8fFcPAAAeCJQjwAAkPVkqpEn33zzjSRp5MiRRqEiySgwSpQoIUlaunSp4uLi1KtXL6NQkaS3335buXPn1vLly41t586dk6urqwoVKiRJqlSpkrHdaubMmSpYsKD8/Pwe3sUBAIBMgXoEAICsJ1ONPNm+fbsqVKig0qVLp9g3cuRI4+vff/9dklSjRg2bNtmzZ5eHh4d27typmzdvKk+ePHJ2dlZ0dLQSExNlsVgUGRkpScqTJ4+kpKJlxYoVGjNmjBwcMtWPCwAAPATUIwAAZD2ZZuTJlStXdPXqVZUvX14nT55U3759Vb16dXl7e6t///46e/as0fbMmTPKnz+/cufOneI4RYsWlSRjQTd3d3dFR0dr0aJFioqK0rx582SxWOTh4SFJmj59ukqWLKnWrVs/gqsEAABPMuoRAACypkwTnoSHh0tKmu/78ssv6/z582rfvr28vb31008/yd/fX+fPn5ckRUREGE9q7mbdbn2i06hRIzVs2FBjxoyRl5eXAgMD1aNHD1WoUEEnT57U2rVr1a9fP9nZJf2oEhISHvalAgCAJxT1CAAAWVOmGfcZHR0tKWkIbNu2bTVu3DjZ29tLkhYtWqTRo0dr7NixmjFjhuLi4tJcSM26/c6dO8a2mTNnasuWLTp9+rSqVaum6tWrS5KmTp0qNzc3NWvWTKdPn9YHH3ygAwcO6Nlnn9XgwYPVokWLh3nJAADgCUM9AgBA1pRpwhPrkxZ7e3sNGTLEKFQkqXPnzlqwYIF++eUX3bp1S05OToqNjU31ONbXAubIkcPYZrFY1LhxY5t2R48e1U8//aRZs2bJYrFo0KBBunXrlmbPnq1ffvlF77//vipWrJjqfOfk7O0tcnHJeU/XDAAAnizUIwDwdOPvSqQl04Qn1uGtRYsWlYuLi80+Ozs7ubm56ezZs7pw4YLy5s2rmzdvpnoc6/a0htFaTZ48We7u7mrQoIGOHTumAwcOaObMmfL19dXzzz+vjRs3atmyZRo8eLDpceLjExUREZ3eywQAIMsoUMD8Xvwkoh4B8Khlxr8rMzP+rsx60vv/WKZZ86R48eKyt7dP8wlOXFycpKQnOKVKldKVK1d0+/btFO3Onz8vOzs7lSxZMs1z7du3T9u2bdP//vc/SdLp06clyfiMg4ODihcvrjNnztzXNQEAgMyFegQAgKwp04Qn2bNnV5UqVXTx4kWFhoba7IuLi9OxY8fk4uKiQoUKydvbWwkJCQoJCbFpd+fOHe3fv1/lypVLdeV7qy+++EK1atVSnTp1JEnx8fE2/7Yey2KxPKCrAwAAmQH1CAAAWVOmCU8kqWPHjpKkMWPG2DzxCQwM1KVLl9SuXTvZ29urdevWsre31/Tp0405xZI0a9YsRUZGyt/fP81z7Nq1S8HBwcZTHknGPOIDBw5Ikq5fv67Q0FCVKlXqQV4eAADIBKhHAADIeiyJiYmJj7sT6ZWYmKi+ffsqKChI5cqVk4+Pj06ePKlffvlFpUqV0ooVK4y5wxMnTtTcuXNVtmxZNWzYUCdOnNC2bdvk5eWlBQsWpLn6fceOHeXs7Ky5c+fabPfz81NoaKj8/PwUEhKiEydOaOPGjSpevLhpn2Nj45k3BwBAKjLrPH7qEQCPUoECeeQx3ONxdyNL2P/pfl2+nPpaVXh6pbcesR8xYsSIez3JyZMn9dtvv+n3339XtWrVdOHCBdnZ2aVZCNwvi8WiZs2aydnZWUeOHNGOHTsUGRmpNm3aaOLEiXJ2djba1qlTR66urjp06JC2b9+u27dvq3379ho1apRy5kx9BeUtW7boq6++0qRJk1SwYEGbfT4+PsaK9zly5NCYMWPk4fHff4klJCTq9u3U50UDAJCV5cqV/YEch3qEegR4muXKlV2zts163N3IEt5u+Laio2P+uyGeKumtR+5p5MmJEyc0ZMgQHTx4MOkgFouOHDmi6dOna/78+Ro5cqRatmyZ0cM+lXjSAwBA6u535An1SPpRjwCZFyNPHh1GnmRND+1tO2fPnlXnzp115MgRtWrVSrVr15Y1fylWrJgSEhL0/vvvp1gcDQAA4EGhHgEAAI9ShsOTKVOm6Pbt21q6dKkmTJggb29vY1+7du20bNkyOTk5ac6cOQ+0owAAAFbUIwAA4FHKcHjy22+/qUWLFqpcuXKq+8uVK6fmzZvryJEj9905AACA1FCPAACARynD4UlkZKRcXV1N2+TNm1c3bzJXDAAAPBzUIwAA4FHKcHhSvHhx7d27N839iYmJ2rNnz3++Mg8AAOBeUY8AAIBHKcPhSZs2bXTgwAFNmjRJ8fHxNvtiYmI0btw4HT16lNXtAQDAQ0M9knV4eVVWwYJ5U/yze/euFG3Pnj2jsmWLadSo4TbbL126qA4d2qp06SJq06a5/vnnRIr9ZcoU1dGjTPMCAKTOIaMf6NGjh3777TfNmTNH3333nbJnT3oncpcuXfT3338rIiJC7u7ueuONNx54ZwEAACTqkazi2rWrOnfurIYMGaZ69Xxs9lWsWMnm+4SEBPXr97Zu3ryR4jhDhw5WVNRNff31Yn311Wz16dNLGzduNvaPGzdK7dr5qVKl5x7OhQAAMr0MhyfZsmXTV199pfnz52vFihUKDQ2VJP3+++8qUqSIOnfurLfeekuOjo4Puq8AAACSqEeyioMH/5QktWzZWhUquJm2nTlzukJDT6W6b/v2bZo0aZoaNGikZ555Ro0b11dkZKRy586tw4cPad2677VrV9rTwAAAyHB4IkkODg5644039MYbbyg6Olo3b95Urly5lDt37gfdPwAAgFRRjzz9/vzzgHLkyKGyZcuZtjt69IgCAkZr4cLv1LFjuxT7LRYpRw4nSVK2bEmBWkJC0nSvTz/9WG+/3UeFCj37gHsPAHiaZHjNk7vlzJlThQoVolABAACPDfXI0+nQoQPKl89Vb7/dU+XLl1CJEgX16qsddPLk30abmJgY9e79pl55pbMaNGiU6nGqV6+pFSuW6vr1CH333TeqVKmy8uZ11pYtQTpy5LB69+7/qC4JAJBJZXjkSdeuXf+zjb29vZycnFS4cGHVrl1bTZs2vafOAQAApIZ6JGs4ePBPhYVdUvnyFdSz51s6fTpUEyd+platmmrz5p0qUqSoAgLGKCoqUsOHj07zOKNHB6hHjy4qX76EypQpq7lz5yshIUGffvqJPvhgiGJjY9SzZ1cdOXJIvr4NNXz4aOXIkeMRXikA4EmX4fDk4sWLunHjhq5fv550AAcHubq6KioqSlFRUZIki8WixMRESdKSJUtUv359zZw5U/b29g+w6wAAIKuiHskavvhihuzt7eTtXUOSVLt2XdWsWVv169fUzJnT1KpVO82aNV0rV/6gXLlypXmcMmXKatu23xQVFWW0W7x4gRIS4tW5c1e9+ebrsre318KF32ngwP6aMGGchg0b+UiuEQCQOWR42s6sWbMkSd7e3lqyZIn+/PNPbd++XXv37tUPP/wgX19f5cuXT+vWrVNQUJD8/f214//Yu++wquv//+OPI3u4IMAF7o17kFaaWqmV5iixXDlSUxzlwBRHjtRMDXOAK5PEvflUzrThNkX7uHKP3IoyRGT8/vDL+ckHPHoUDgL323V1pa/367x5vjgX+Lwe5/1+vX//XQsWLEjv2gEAQA5FP5Iz1K7tYwxOkhUvXkKlS5fV338flp9fd3Xp8olq1qyl+Ph4xcfHS5KSkpKMf35UcnASHR2tiRPHacSI0UpMTNQvv/xHPXr0UunSZdSlyydat251xi8OAJClGJKSP5J5St27d9fFixe1du1a2djYpDoeFxenli1bqmjRopo5c6YkqW3btrp3757Wrl2bPlVnIQ8eJCgiIiazywAA4IXj5pb7mV9LP2KerNiP3LkTof/8Z72qVKmmihW9UxyrU6e6IiJu6+bNmybPsW/fYXl5FU01/vXXX2nXrh1atSpMV69eVaVKpbVr118qUaKUtm3bqo4d2+r8+Wvpuh7gWbm55VbVkVUzu4wc4eCXB3X9emRmlwELe9p+xOwrT/bu3asGDRqk2ahIkq2trV555RXt3LnTOFatWjVduHDB3C8FAACQJvqR7M/W1k5DhgzQ5MkTU4wfPPiXzpw5rQED/LVx47ZU/0mSr+9H2rhxmwoUKJjqvFevXlFQ0AyNGvVwjxRXV1dZWVnp2rWHYcmVK5fl5uaesYsDAGQ5Zu954ujoqIsXL5qcc+XKlRTNTGJi4mObGwAAAHPRj2R/Dg4O6tdvgCZOHKchQwaoadN3debMaX399VeqUMFbnTp1fez76e7uoapVq6d5bMKEsWrS5G1Vrvzwk3xra2s1bPiGJk0ar969+2rWrOl6++13M2xdAICsyewrT3x8fLR582Zt2rQpzePbt2/Xli1bVKvWw/tTHzx4oN9++03Fixd/vkoBAAD+D/1IzvD554P1zTeB2rVrpzp2bKtJk8brnXeaa+XKdc8UhB07dlSrV6/U0KEjUox//fVUJSYm6pNPOqtMmbIaPHhoei0BAJBNmL3nyYULF9SmTRtFRPMYkdoAACAASURBVESoZs2aqlSpktzc3BQVFaVDhw5px44dcnJy0uLFi1W0aFE1a9ZMZ8+e1dixY9W6deuMWscLKyveYwwAgCU8z54n9CPmoR8Bsi72PLEc9jzJmZ62HzH7th1PT08tXbpUX331lX777Tft3bvXeMxgMKhu3boKCAhQ8eLFdf78eV29elVdunTJkY0KAADIGPQjAADAksy+8uRRt2/f1n//+1/dvn1bzs7OqlChgjw8PIzHk5KSZDAY0qXQrIpPegAASNvzXHnyKPqRJ6MfAbIurjyxHK48yZky7MqTR+XPn1+vvvpqmsfu3bsnBweH5zk9AADAE9GPAACAjPZM4cmxY8f0888/69atW0pISNCjF688ePBAERER2r9/vw4cOJBuhQIAADyKfgQAAFiK2eHJ7t271bVrV2OTYjAYUjQryZfFlitXLv2qBAAAeAT9CAAAsCSzH1UcHByshIQEDRgwQMuWLTPuYL9s2TJ99dVXKliwoPLnz685c+ZkRL0AAAD0IwAAwKLMDk/+/vtv1a9fX926dVPlypXl4+OjkydPqnLlymrVqpV+/PFHxcbGaubMmRlRLwAAAP0IAACwKLPDk5iYGJUuXdr491KlSunkyZOKj4+XJBUqVEiNGjXSnj170q9KAACAR9CPAAAASzI7PMmXL5+io6ONf/fy8lJ8fLxOnz5tHCtYsKD+/fff9KkQAADgf9CPAAAASzJ7w9iqVatq8+bN8vPzk4uLi0qXLq2kpCTt2LFDZcqUkfRw93tHR8d0LxYAAECiH8loufPay97WJrPLyBFi4x4o8k5sZpcBAHgCs8OTzp07q2PHjnr33Xc1YcIE1atXT7Vq1dK3336rGzdu6MaNG/r999/15ptvZkS9AAAA9CMZzN7WRh+MXpzZZeQIy0d8qEgRngDAi87s23Zq1KihwMBA5c2bV3FxcZKkgIAAOTk5ae7cuVqzZo0KFSqkQYMGpXuxAABp2LDBcnfPo9jY/99snzz5jzp2/FAlSxZRqVKeatfuAx0+fCjF665cuaz3339PxYsXUvPmTXT69MlUx0uUKKyjR49YZB3A86AfAQAAlmRISkpKetYXJyUlyWAwSJKio6O1a9cu2dnZqUaNGnJwcEi3IrOyBw8SFBERk9llAMgmfvttmz744D0lJSXp/Plrsre314UL5/XGG6/J3t5BgwZ9ocKFiygsbJ1WrlymtWt/UpUq1SRJXbt21L//XpS/f4DmzQvWjRs39PPPW4zn7tevl6ysrDRlyneZtTzkMG5uudPlPPQjT2ZuP+LmlpsrTyxk+YgPdf16ZGaXgReYm1tuVR1ZNbPLyBEOfnmQn8cc6Gn7EbNv25k+fbp8fHxUq1YtY6MiSU5OTmrUqJEk6ddff9XWrVs1ZswYc08PAHiMO3ci1LfvpypUqLAuXbpoHA8OnqHIyEitX79RZcqUlSQ1aNBIt2/f0ogRQ7V27c+SHgYvU6Z8p9dfbyhXV1c1avSaoqKi5OzsrP/+92+tX79WO3fuz5S1AeaiHwEAAJZk9m0706dPf+Jj/7Zv3661a9c+c1EAgNT8/QfIy6uofH0/SjF+/PgxlShR0hicJHvllde0a9cO3bkTIUkyGCQHB3tJko2NrSQpMTFBkvTllwHq2bO3PDwKZPQygHRBPwIAACzpiVeeLFq0SCtWrEgxtnjxYm3evDnN+Q8ePNDp06dVpEiR9KkQAKC1a1dpw4af9euvf2rZspSX0ru6vqTw8AOKjY2Vvb29cfzs2dP/d3vPOVWqlE81a9bWihVLVauWj5YsWaTy5SsqT5682rp1s44c+a/mz//R0ssCnhr9CAAAyExPDE/ee+89zZgxQ7du3ZIkGQwG4y72aZ7Q2loFCxbUsGHD0rdSAMihrly5rMGDP9PIkWNUrFjxVMc/+qiDVq9eoe7dO2vkyNFydX1Jv/zykxYvXiRJio5+uM/B2LET1aVLB5Uu7aUSJUpqzpwFSkxM1JdfDtfgwUP14EGcunbtqCNH/lb9+g00cuRY9ovAC4N+BAAAZKYnhifOzs7asWOH8e/lypWTn5+f/Pz8MrQwAMBD/fr1UpUq1fTxx13TPF6v3usKDp6vYcP8VadODUlStWrV9cUXAfrii0FydHwYgJQoUVLbtu1QdHS0nJycJEk//viDEhMT1K5dR33yyceysrLSwoVLNGBAX02aNF4jRoy2zCKBJ6AfAQAAmcnsDWMXLlyowoULZ0QtAID/MX/+HO3bt1e//vqn4uPjJUmJiYmSpISEBCUmJipXrlxq0aK1mjdvqXPnzsra2lqenl4KDQ2RJOXLlz/FOZODk+joaE2cOE5TpkxTYmKifvnlP1q37heVLl1GXbp8orFjRxGe4IVFPwIAACzJ7PCkdu3axj/HxcUpLi7usXOdnZ2frSoAgCRp3brVioy8q5o1K6U6Vrx4Qfn6fqS+fT/Xvn179OGH7VW8eAnj8UOHDsrV1VWenl5pnnvGjECVLl1Gb77ZRFevXlV8fLxcXFwkPQxcrl27mjGLAtIB/QgAALAks8OTpKQkBQcHa9myZbp8+fJj5xkMBh05cuS5igOAnO6bbwIVFRWZYiwkZIFCQhYoLGyTChQooEOHwtWvXy95e1dSpUpVJD3cJ2XlyuVq3rxFise4Jrt69YqCgmZozZr/SJJcXV1lZWWla9euqUSJUrpy5bLc3NwzfoHAM6IfAQAAlmR2eBIcHKxvv/1W1tbWKlu2rHLnzp0RdQEAJJUqVTrV2MaNv0iSKleuInt7e7m5uatUqdLq3bu7hg4dqfj4eI0fP1r29vYaMMA/zfNOmDBWTZq8rcqVq0p6uLlmw4ZvaNKk8erdu69mzZqut99+N+MWBjwn+hEAAGBJZocnK1eulJubm5YsWcK9xgDwAnBwcNCSJasUEDBEffr0lLW1lV57rb6GDh2pQoVS/54+duyoVq9eqT/+2JNi/Ouvp8rPr4c++aSzGjZ8Q4MHD7XUEgCz0Y8AAABLMjs8uXr1qtq1a0ejAgCZZPDgoamCDS+volq4cPFTvb5cufI6ezb1bQ6FCxfR6tX/SZcagYxGPwIAACwpl7kvKFiwoO7evZsRtQAAADwV+hEAAGBJZocnbdq00c8//6wLFy5kRD0AAABPRD8CAAAsyezbdipWrKjixYurdevWaty4sYoWLSpbW9s053bs2PG5CwQAAPhf9CMAAMCSzA5PPv74Y+Ofly9f/th5BoOBZgUAAGQI+hEAAGBJZocn48ePz4g6AAAAnhr9CAAAsCSzw5OWLVtmRB0AAABPjX4EAABYktnhyaNOnTqlo0eP6s6dO2rXrp3+/fdf5c2bV05OTulVHwAAgEn0IwAAIKOZ/bQdSTp58qTatGmjd999V4MGDdLYsWMlSatWrVL9+vX1008/pWuRAAAA/4t+BAAAWIrZ4cmFCxfUrl07HTlyRO+++65efvll47EiRYooMTFRAwcO1L59+9K1UAAAgGT0IwAAwJLMvm0nMDBQsbGxWrp0qSpWrKjp06dr165dkqQWLVrI29tbbdq00ezZs1WzZs10LxgALMU5j40c7Owzu4wc4d79WEXdfZDZZSALoR8BAACWZHZ4smPHDjVt2lQVK1ZM83ipUqXUpEkT/fbbb89dHABkJgc7e1UdWTWzy8gRDn55UFEiPMHTox8BAACWZPZtO1FRUXJxcTE5J0+ePIqMjHzmogAAAEyhHwEAAJZkdnji6emp/fv3P/Z4UlKS9uzZI09Pz+cqDAAA4HHoRwAAgCWZHZ40b95c4eHhmjJlihISElIci4uL0/jx43X06FG9/fbb6VYkAADAo+hHAACAJZm950mXLl20Y8cOzZ49W0uWLJGdnZ0kqUOHDvrnn38UERGhKlWqqFu3buleLAAAgEQ/AgAALMvsK09sbGw0b948DRw4UC4uLrp+/bqSkpK0d+9eOTo6qnfv3lq4cKFsbW0zol4AAAD6EQAAYFFmX3kiSdbW1urWrZu6deummJgYRUZGysnJSc7OzuldHwAAQJroRwAAgKWYfeWJJMXExGjBggX6888/5ejoKA8PDzk7O6tr166aP3++4uPj07tOAACAFOhHAACApZgdnty6dUtt27bVxIkTtWvXLuP4vXv39Ndff2nSpElq166doqKi0rVQAACAZPQjAADAkswOT6ZPn64TJ07os88+06effmocd3Bw0J49ezRgwACFh4crMDAwXQsFAABIRj8CAAAsyezwZPv27WrUqJG6d+8uR0fHFMdsbGzUrVs31a9fXxs2bEi3IgEAAB5FPwIAwPMbNmyw3N3zKDY21jh26tQ/6tTpI5UtW1SlSnmqc+f2On36VIrXnThxXE2aNFCJEoXVvn0bXbt2LcXxw4fDVaqUp65fv26RdViC2eHJzZs35eXlZXJOiRIldOvWrWcuCgAAwBT6EQAAns9vv23T3LnBKcauXr2qFi3e0aVLFzV16gxNnx6sixcvqFmzxrpx44Zxnp9fd7m5uWv+/BDdvHlTw4f7pzjPqFEB6t27r9zc3CyyFksw+2k7BQsW1P79+03OOXTokAoUKPDMRQEAAJhCPwIAwLO7cydCfft+qkKFCuvSpYvG8ZCQ73Xz5g1t3vy7PDw8JEnly1dQrVqVtWrVMnXv3kt3797RwYMHtGnTdlWpUk3R0dEaOLCv8RwbN/6skyf/UUjIUouvKyOZfeVJ06ZNdfjwYU2cOFFxcXEpjsXHxyswMFB//fWXmjRpkm5FAgAAPIp+BACAZ+fvP0BeXkXl6/tRivGPP+6msLCNxuBEkuzs7CRJsbH3JUkGg0GSZG/vIEmytbVRQkKCJCkhIUFjxozUF18MT3VbbVZn9pUn3bt319atW/X9999rxYoVKleunJydnRUdHa1jx47p7t27Klu2bIrN2wAAANIT/QgAAM9m7dpV2rDhZ/36659atmxximMvvfSSXnrpJUnS/fv3deLEMY0aFaB8+fKpVav3JUm5c+dR2bLltGTJIvXvP0ArViyVj08dSVJIyAJZWVmrTZsPLbsoCzA7PLG3t9eSJUsUHBysn376SXv37jUeK1iwoD788EP16NEj26VMAADgxUE/AgCA+a5cuazBgz/TyJFjVKxYcZNz33uvif76a79y5cqlr7+eqiJFPI3HAgNnqnv3zpoxI1BVq1bT3LkLFRUVpUmTxhv3SRk8+DNduHBezZu31MCBQ2RlZZXRy8tQZocnBw4cUIUKFdSvXz/169dP9+/fV0REhJycnOTs7JwRNQIAAKRAPwIAgPn69eulKlWq6eOPuz5xbkDAl0pMTFRY2FoNHNhPt27dVP/+AyVJ1avX1L59hxUdHS0nJydJ0vjxo+XtXUkNGjTSW2/Vl49PHY0cOVbdunWUu7uHOnfulqFry2hmhyd9+vSRt7e3goKCJD28/+nR+6EAAAAyGv0IAADmmT9/jvbt26tff/1T8fHxkqTExERJD/cqSUxMVK5c/39b1FdfrSdJqlfvdd2+fVtTp06Sn19/WVv//xghOTi5fPlfzZ4dpLCwjTp37qwOHjygkJBl8vDwkK9vO61btzrnhSeRkZEqVapURtQCAADwVOhHAAAwz7p1qxUZeVc1a1ZKdax48YLy9f1Ibdu2U1RUlBo3bprieJUq1bR27SrdvHkzzQ8rvvpqtJo3b6GKFb21b98eSZKLi4skKX/+/Lp27WoGrMiyzA5PGjVqpE2bNqlLly7GbwYAAIAl0Y8AAGCeb74JVFRUZIqxkJAFCglZoLCwTSpQoICmTPlaa9eu1v79h+Xi4mqc9+uvW+ThUUBubm6pzvv334cVFrZOO3bskyS5ublLkq5du6rChYvoypXLxrGszOzwpFatWtqzZ48aNWqkGjVqqHDhwrK3t081z2AwaMiQIelSJAAAwKPoRwAAME+pUqVTjW3c+IskqXLlKrK3t5efX3+tX79Wbdu2Ur9+A2Vra6NFi0L0xx/bFRQ0L8VtPclGjQpQjx6fqmDBQpIkL6+iKl++okaPHq7Wrdvoxx9/UO/efTN2cRZgdnjy5ZdfGv/8xx9/PHYezQoAAMgo9CMAAKS/UqVKKyxso7766ksNHNhXMTExqly5qhYvXqmGDd9INX/Llo06cuRvLVjwo3HMYDBo1qy56tv3U/Xu3UOtWr2vzp0/seQyMoTZ4cnChQszog4AAICnRj8CAMDzGzx4qAYPHppirHz5CgoJWfpUr2/U6C0dOXIq1XiFChW1efNv6VLji8Ls8KR27doZUQcAAMBTox8BAACWZHZ4kuz27dv6+eefdezYMd25c0eBgYHav3+/EhMTVatWrfSsEQAAIE30IwAAwBKeKTxZv369RowYodjYWCUlJclgMEiStm3bprlz5+rDDz/UiBEj0rVQAACAR9GPAAAAS0m9Ve4T7N69W/7+/nJ3d9fo0aP1/vvvG481atRIZcqU0eLFi7VmzZp0LRQAACAZ/QgAALAks8OTWbNmycXFRcuWLdMHH3ygAgUKGI9VrVpVixYtUoECBRQaGpquhQIAACSjHwEAAJZkdnhy+PBhNWnSRHnz5k3zuLOzs9544w2dOXPmuYsDAABIC/0IAACwJLPDk8TExCfOiYuLU3x8/DMVBAAA8CT0IwAAwJLMDk/Kli2rbdu2KS4uLs3jUVFR2r59u8qVK/fcxQEAAKSFfgQAAFiS2eFJp06ddPHiRXXv3l3//e9/jU1LYmKiDh8+rO7du+vq1av66KOP0r1YAAAAiX4EAABYltmPKm7atKlOnDihoKCgFDvbV65cWQkJCUpKSlKHDh3UrFmzdC0UAAAgGf0IACAryedsIxsH+8wuI0d4cC9WEVEP0v28ZocnktSvXz81aNBAK1as0JEjRxQZGSlHR0eVLVtWLVu2lI+PT3rXCQAAkAL9CJA1JCUlae7cIH3//VxdvHhBRYp4qkuXT9S1aw8ZDAZJ0v79e/XVV2O0f/8e2dvbq379Bho6dKSKFi1mPM+JE8fVt29PnThxQnXrvqIpU6bL3d3dePzw4XC1bPmudu78S25ubpZeJmCSjYO9fqhVK7PLyBE67d0rZWZ4cvnyZf3xxx+6ffu2PDw8VK9ePY0ePTrdCwIAAHgc+hEg65k8eaImT56ozz8frJdfrqs9e3YpIGCI7ty5owED/HXgwH61aPG2ihYtpsmTpylfvnwKCflBTZs21KZNv6lw4SKSJD+/7vLwKKAhQ4Zr4sRxGj7cX8HB3xu/zqhRAerduy/BCYAM8VThSWBgoObMmaOEhATjmL29vfz9/dW2bdsMKw4AACAZ/QiQ9cTExGjGjGnq1KmLBg36QpL02mv1debMaQUHz9CAAf6aOvUbOTg4aPXqn4zBR4MGb6hp04YaP36Mpk8P1t27d3Tw4AFt2rRdVapUU3R0tAYO7Gv8Ohs3/qyTJ/9RSMjSTFkngOzvieHJunXrNGvWLDk4OKhp06by8PDQ+fPntXXrVn355Zfy8vJS3bp1LVErAADIoehHgKzJzs5OYWEb5erqmmo8Li5OSUlJOnHimGrUqJXiipFcuXKpTp1XFRq6UJKMt/fY2ztIkmxtbYxBakJCgsaMGakvvhguR0dHSywLQA70xPBk+fLlypMnj1asWCEvLy/j+OHDh9W+fXuFhobSrAAAgAxFPwJkTVZWVqpY0VvSw71Pbt26pbCwtVq6NNS454mr60u6ePGCkpKSjCGJJJ05c1oRERGKiLitfPnyq2zZclqyZJH69x+gFSuWysenjiQpJGSBrKys1abNh5myRgA5wxMfVXzixAk1adIkRaMiSZUqVdLrr7+uQ4cOZVhxAAAAEv0IkB1s3bpJ5csX16BB/VWuXAX5+fWXJLVr11HHjx/TwIH9dfHiBd28eVMzZkzTr79ulvTw1h9JCgycqfXr16h0aS+dOXNa48Z9raioKE2aNF4jR47RxYsX1LZtK73ySk1NnDguxS1+APC8nhieREdHp7rMLlmxYsV0+/btdC8KAADgUfQjQNZXpkw5rVnzk777LkgRERF66636unbtmj76qIPGjZuo1atXqHr1iipfvri2bduivn0/lyQ5ODy8Vad69Zrat++wzpy5rI0bt8vLq6i++26KvL0rqUGDRurWraNKly6juXMXat261Vq48HtT5QCAWZ4YnsTHx8vKyirNYzY2NoqPj0/3ogAAAB5FPwJkfZ6eXqpb91X5+n6k0NDlunTpohYt+kGS9Mknn+rEiXPauXO/Dh8+oeXL1xp/7vPkyZviPE5OTpKky5f/1ezZQRoxYozOnTurgwcPyM/vM5UvX0G+vu20bt1qi68RQPb1xPDkRTdx4kSVLVtWu3fvTnVszZo1atGihapWrap69epp/Pjxio6OTjVvy5Yteuutt1StWjV17NhRp06dSjXn1q1bql69ukJCQjJkHQAAIGuiFwEe78aNG1q6NFRXrlxOMV6mTFk5Ojrp0qVLOnjwL61du0rW1tYqWbK0PDwKSJIOHw6Xt3flxwanX301Ws2bt1DFit66fv2aJMnFxUWSlD9/fl27djUDVwYgp8nS4cmhQ4f0ww8/pHksODhY/v7+SkxMVPv27VWuXDktWLBAXbt2VVxcnHHe1atX1b9/f9nY2MjX11fnzp1T165dFRsbm+J8c+bMUZ48eeTr65uha3qRJCUlac6cWapbt4a8vNxVt24NzZ0bpKSkJElSjRrecnfP89j/ku3evUuvvVZbpUp5qnfv7qmaxp9+ClONGt66f/++RdcHAMDzohcBTLt/P1Z9+vTUvHmzU4zv3PmnYmKi5e1dSTt37tCnn3bT9evXjcePHPmvfv11i955p1ma5/3778MKC1unIUMCJElubu6SZAxMrly5bBwDgPTwxKftSNKxY8e0Zs2aVONHjx6VpDSPSVKLFi2eozTT4uLiNGzYsDQ3gvr33381bdo0VatWTSEhIbKxsZEkBQYGaubMmVq2bJnat28vSVq/fr3i4+M1f/58eXh4qEmTJvL19dX27dvVuHFjSQ+bmtDQUA0bNky2trYZtqYXzeTJEzV58kR9/vlgvfxyXe3Zs0sBAUN0584dDRjgrwULFqUKPI4fP6bPP++jjz/uKunh+9S9+8dq1OhNvfNOMw0b5q+pUycpIGCUpIeXYY8d+/DRcnZ2dpZeIgAgC3nR+hF6EeDJChcuog4dOmvGjEDZ2dnJx6eOjh8/qsmTJ6pSpSpq27adIiMj9d13U9S1awf17z9At27d0qhRASpRoqS6deuZ5nlHjQpQjx6fqmDBQpIkL6+iKl++okaPHq7Wrdvoxx9/UO/efS25VADZ3FOFJ1u2bNGWLVtSjSdfgfDFF1+kGjcYDBkangQFBenMmTOqW7euduzYkeLY0qVLFR8frx49ehibFUnq2bOnFi5cqOXLlxsblosXL8rFxUUeHh6SpPLlyxvHk82aNUvu7u5q1apVhq3nRRMTE6MZM6apU6cuGjTo4fv72mv1debMaQUHz9CAAf6qVKlKitfExsbqs8/8VK1adY0dO1GSdOLEcV2+/K8CAkbJxcVV//xzQqtWLZc0SpL0ww/z5OTkrNat21hyeQCALOhF60foRYCnM2HCNypZspRCQxcqMHCyXFxc1bp1G/n7D5O9vb3s7e21bNlajRw5VN26fSwnJyc1btxUQ4YMl7Ozc6rzbdmyUUeO/K0FC340jhkMBs2aNVd9+36q3r17qFWr99W58yeWXCaAbO6J4Ymfn58l6jDLsWPHNHv2bPXo0UN3795N1bDs3btXklSrVq0U43Z2dqpatar++OMPRUZGKnfu3MqbN69iYmKMDVZUVJQkKXfu3JIeNi4rVqzQuHHjZG39VFlTtmBnZ6ewsI2pnmxgZ2enuLg44/frUTNnTtOpUye1ceN2Y6OYPMfe/uEu6TY2tkpISJQkRUbe1eTJEzV79oJU5wIA4FEvWj9CLwI8PRsbG/Xq1Ue9evV57Bxv70pauXL9U52vUaO3dORI6n2BKlSoqM2bf3vmOgHAlCwXniQkJGjo0KEqWrSoevTooUmTJqWac/78eb300ktpJtWFCxeWJJ05c0aVK1dWlSpVFBMTo5CQELVu3Vpz586VwWBQ1apVJUnTp09X0aJF1axZ2vdbZldWVlaqWNFb0sNP7m7duqWwsLVaujRUXbv2SBV2XLt2TdOmTVXHjp3l7V3JOF6iREm5urpq8eIQtWjxvtavXyMfn5clSd9+O1nVq9fUq6/Ws9zCAABZ0ovUj9CLAACQ82S5DWPnzZuno0ePauzYsY+95zciIsL4ac3/Sh5P/lSnYcOGatCggcaNG6fq1atr/vz56tKli8qUKaNTp05p3bp16tOnj3LlevitSkxMzIBVvdi2bt2k8uWLa9Cg/ipXroL8/PqnmjNvXpDi4x+ob9/PU4w7ODho2rRZmjx5oipUKCFraxsNGvSFLl26qPnz52j48NE6dOig3nuvqerXf1lz5wZZalkAADwTehEAAHKeLHXt55kzZzR9+nR99NFHqlat2mPnxcfHP7aZSR5/dKPTWbNmaevWrTp37pwqV66smjVrSpKmTZumsmXLqnHjxjp37pwGDx6s8PBwFShQQP7+/mratOkTa7ayMihfPkdzlvnCqVmzmjZv3qJz585r7NjRatLkde3Ysct4b/aDBw+0cOH3+uijdqpQoXSq13/wQSt98EErxcTEyNHx4feiU6eO//c+eqtMmVLq27ef6tWrpxYt3pO3d3k1afLk7y2A7CWr/65EzpAVexEpe/Qj2RnvDfDi4Ocxe8iI9zHLhCdJSUkaNmyYXF1d9fnnn5uca29vrwcPHqR5LPnRgA4ODsYxg8GgRo0apZh39OhRbdiwQUFBQTIYDBo0aJDu3bun4OBgbd++XQMHDlS5cuVUvHhxk7UkJCQpIiLmaZb4wsqb102VK7upcuVaKlvWW6++Zd4JWgAAIABJREFUWkszZwbps88GSXp4ZcrNmzfVosUHT1xrXFyMwsMPaP369dq58y9t3LhVERER6tSpu6ysrNS0aTOFhi7Ryy/Xt8TSAJPc3NL+1BgZI6v/roT5strPWFbtRSTz+5Gs9t5kdfz+gyn8PFpWRv088j5aVkb8m5dlbttZtGiR9u/fr1GjRsnJycnk3Dx58igyMjLNY8njj7uUNtm3336rKlWq6PXXX9exY8cUHh6uzz77TPXr19fQoUOVJ08eLVu27NkWkwXcuHFDS5eG6sqVyynGy5QpK0dHJ126dMk49ssvP6lAgYKqU+eVpzr3qFEB6tWrjzw8PHT9+jXlyZNXVlZWkqT8+fPr2rWr6bcQAADSCb0IAAA5V5a58mTDhg2SpO7du6d5vGPHjpIePsawWLFi2rt3r2JjY2Vvb59i3qVLl5QrVy4VLVr0sV/rwIED2rZtmxYsWCBJOnfunCQZX2NtbS1PT0+dP3/+udb0Irt/P1Z9+vRUv34DNGzYSOP4zp1/KiYmOsWmsPv27VWtWj5P9cScX375SSdP/qNFi5ZLktzc3BURcVtxcXGytbXVlSuX5ebmnv4LAgDgOdGLAACQc2WZ8KRly5aqXbt2qvHff/9d4eHhatmypQoXLqw8efKoRo0a2r17t/bt26dXX33VOPf+/fs6ePCgSpUqlebu98mmTp0qHx8f1alTR9LDXfUf/X/yubLz43ULFy6iDh06a8aMQNnZ2cnHp46OHz+qyZMnqlKlKmrbtp2kh5vWHTt2RI0bP/me6/j4eI0ZM0JDhgQY9z6pXr2mnJ1za/To4apd+2WFha3TjBmzM3RtAAA8C3oRAAByriwTnrRq1SrN8bt37xobFh8fH0lSs2bNFBwcrOnTp6t27drGjdmCgoIUFRUlX1/fx36dnTt3avfu3Vq8eLFxLPle4vDwcJUpU0Z37tzR2bNn9dprr6XX8l5IEyZ8o5IlSyk0dKECAyfLxcVVrVu3kb//MOOnaLdu3VJ8fLzy5cv3xPOFhCyQtbW1MXiRJEdHR82Zs0ADB/bTypXL1LNnbzVt+k6GrQkAgGdFLwIAQM6VZcITc5QoUUJdunTRnDlz1KJFCzVo0EAnT57Utm3bVL16dbVp0+axr506darq1aun6tWrG8fKly+vihUravz48Tp+/Lj27dunhIQEk41PdmBjY6NevfqoV68+j53z0ksv6dq1u091vs6du6lz526pxl955TXt3PnXM9cJAMCLhl4EAIDsJVuGJ5I0YMAAFSxYUKGhoVq4cKHc3Nz08ccfy8/P77GPDty6davCw8O1cuXKVMdmzJihgIAALVmyRIULF9a0adPk6emZ0csAAABZFL0IMptLXmtZ2To8eSKeW0LcPd26E5/ZZQDIQIakpKSkzC4iO3vwIIHHzwFZlJtbblUdWTWzy8gRDn55UNevp/1kEmRfPLbRcsztR9zccuuD0YufPBHPbfmIDzPs95+bW26d/frJj7LG8ys2+EyGvo/0I5aRkf2Im1tu/VCrVoacGyl12rvXrPcx2z2qGAAAAAAAIDMQngAAAAAAAJhAeAIAAAAAAGAC4QkAAAAAAIAJhCcAAAAAAAAmEJ4AAAAAAACYQHgCAAAAAABggnVmF4CUcue1l72tTWaXkSPExj1Q5J3YzC4DAAAAAPCCIzx5wdjb2uiD0Yszu4wcYfmIDxUpwhMAlpOUlKS5c4P0/fdzdfHiBRUp4qkuXT5R1649ZDAYJEkHDuzX2LFf6uDBv2Rra6M332yigIAv5e7ubjzP7t27NHBgX12+fFmNGzfV119PlZOTk/H4Tz+FafjwIdqxY7/s7Owsvk4AAIDshtt2AACwkMmTJ2rEiKFq2fJ9LVq0XK1bt1FAwBBNmfK1JOn48WNq1aqZDAaDZs+er/Hjv9GuXTvUqtU7iouLkyTFxcWpe/ePVauWj4KD52n//r2aOnWS8WvEx8dr7NiR+uKL4QQnAAAA6YQrTwAAsICYmBjNmDFNnTp10aBBX0iSXnutvs6cOa3g4BkaMMBfM2dOk4ODvRYuXCxHR0dJ0ksvualVq3e1ZcsmNW36jk6cOK7Ll/9VQMAoubi46p9/TmjVquWSRkmSfvhhnpycnNW6dZtMWikAAED2Q3gCAIAF2NnZKSxso1xdXVONx8XFKSkpSUOGBKhbt57G4ESSbG0fXj1y//7D2wyTb++xt3eQJNnY2CohIVGSFBl5V5MnT9Ts2QuM8wAAAPD8CE8AALAAKysrVazoLenh3ie3bt1SWNhaLV0aatzzpGDBQipYsJAk6d69ezp0KFxDhgyQl1dRvfFGY0lSiRIl5erqqsWLQ9Sixftav36NfHxeliR9++1kVa9eU6++Wi9zFgkAAJBNsecJAAAWtnXrJpUvX1yDBvVXuXIV5OfXP9WcGjW81azZWzp16h999dXXcnZ2liQ5ODho2rRZmjx5oipUKCFraxsNGvSFLl26qPnz52j48NE6dOig3nuvqerXf1lz5wZZenkAAADZDleeAABgYWXKlNOaNT/pwoXzmjRpgt56q742bNiW4ok606cHSTJo0aKF6tjxQ333XZA++KCtJOnNN5voyJHTiomJMd7iM3ToYLVu3UbFi5dQzZqV1KNHb9Wt+4ratXs41qjRW5mxVAAAgGyB8AQAAAvz9PSSp6eXJKlatRp69dVaWrToB3322SDjnIYN35QkNWjQSG+//Ya++WaCMTxJlhychIcf0IYNP2vnzr+0Z88u3b17Rz179paVlZXeeae51q5dTXgCAADwHLhtBwAAC7hx44aWLg3VlSuXU4yXKVNWjo5OunTpkjZu/Fl//PFbiuMGg0GVK1fRv/9eeuy5R40KUK9efeTh4aHr168pT568srKykiTlz59f165dTf8FAQAA5CCEJwAAWMD9+7Hq06en5s2bnWJ8584/FRMTLW/vSgoOnqn+/f10//594/G4uDj9+efv8vaulOZ5f/nlJ508+Y969eorSXJzc1dExG3FxcVJkq5cuSw3N/c0XwsAAICnw207AABYQOHCRdShQ2fNmBEoOzs7+fjU0fHjRzV58kRVqlRFbdu2U9my5dS6dTN16OCr7t0/1f37cZo9e6bOnj2jFSvWpTpnfHy8xowZoSFDAoy38FSvXlPOzrk1evRw1a79ssLC1mnGjNmpXgsAAICnR3gCAICFTJjwjUqWLKXQ0IUKDJwsFxdXtW7dRv7+w2Rvb686dV7RqlX/0ddfj1PPnt2UkJCg2rV9tH79BlWrViPV+UJCFsja2lpt27Yzjjk6OmrOnAUaOLCfVq5cpp49e6tp03csuUwAAIBsh/AEAAALsbGxUa9efdSrV5/Hznn55TpatSrsqc7XuXM3de7cLdX4K6+8pp07/3rmOgEAAJASe54AAAAAAACYQHgCAAAAAABgAuEJAAAAAACACYQnAAAAAAAAJhCeANlcUlKS5syZpbp1a8jLy11169bQ3LlBSkpKMs65deum+vXrpQoVSqh48UL68MPWOnnynxTnOXHiuJo0aaASJQqrffs2unbtWorjhw+Hq1QpT12/ft0i6wIAAAAASyE8AbK5yZMnasSIoWrZ8n0tWrRcrVu3UUDAEE2Z8rUkKSEhQR999L62b/9VY8ZM0LRpM3Xp0kW1bPmObt++ZTyPn193ubm5a/78EN28eVPDh/un+DqjRgWod+++cnNzs+j6AAAAACCj8ahiIBuLiYnRjBnT1KlTFw0a9IUk6bXX6uvMmdMKDp6hAQP8tW7dav31135t3LhNVatWlyT5+NRV7dqVNW/ebA0cOER3797RwYMHtGnTdlWpUk3R0dEaOLCv8ets3PizTp78RyEhSzNlnQAAAACQkbjyBMjG7OzsFBa2Uf37D0w1HhcXp6SkJG3dullFingagxNJcnd318sv19WmTb9IkgwGgyTJ3t5BkmRra6OEhARJD69cGTNmpL74YrgcHR0tsSwAAAAAsCjCEyAbs7KyUsWK3ipQoKCSkpJ08+ZN/fDDfC1dGqpOnbrKYDDon3+Oq2TJUqleW6JESZ04cUKSlDt3HpUtW05LlizSnTsRWrFiqXx86kiSQkIWyMrKWm3afGjRtQEAAACApXDbDpBDbN26SR9++L4kqXLlqvLz6y9Junv3rgoVKpJqvrNzbkVHRykxMVG5cuVSYOBMde/eWTNmBKpq1WqaO3ehoqKiNGnSeE2fHqyLFy9o8ODPdOHCeTVv3lIDBw6RlZWVRdcIpCWfs41sHOwzu4wc4cG9WEVEPcjsMgAAANId4QmQQ5QpU05r1vykCxfOa9KkCXrrrfrasGGbEhMTjbfl/K9Hx6tXr6l9+w4rOjpaTk5OkqTx40fL27uSGjRopLfeqi8fnzoaOXKsunXrKHd3D3Xu3M0iawNMsXGw1w+1amV2GTlCp717JcITAACQDRGeADmEp6eXPD29JEnVqtXQq6/W0qJFPyhv3ryKjLyban5k5F05O+dWrlwp7+5LDk4uX/5Xs2cHKSxso86dO6uDBw8oJGSZPDw85OvbTuvWrSY8AQAAAJAtsOcJkI3duHFDS5eG6sqVyynGy5QpK0dHJ126dEklS5bW6dOnU732zJnTKlOmzGPP/dVXo9W8eQtVrOit69evSZJcXFwkSfnz59e1a1fTcSUAAAAAkHkIT4Bs7P79WPXp01Pz5s1OMb5z55+KiYmWt3clNWz4hs6fP6uDB/8yHr927Zp27dqh119vlOZ5//77sMLC1mnIkABJkpub+/+97mFgcuXKZeMYAAAAAGR13LYDZGOFCxdRhw4PN3m1s7OTj08dHT9+VJMnT1SlSlXUtm07WVlZ6bvvpqp9e18FBIySk5OzvvlmvHLnzqNu3Xqmed5RowLUo8enKliwkCTJy6uoypevqNGjh6t16zb68ccf1Lt3X0suFQAAAAAyDOEJkM1NmPCNSpYspdDQhQoMnCwXF1e1bt1G/v7DZG//8Akky5at0fDhQzRsmL8MBoN8fF7WvHkhcnV1TXW+LVs26siRv7VgwY/GMYPBoFmz5qpv30/Vu3cPtWr1vjp3/sRiawQAAACAjER4AmRzNjY26tWrj3r16vPYOR4eBTR79oKnOl+jRm/pyJFTqcYrVKiozZt/e9YyAQAAAOCFxZ4nAAAAAAAAJhCeAAAAAAAAmEB4AgAAAAAAYALhCQAAAAAAgAmEJwAAAAAAACYQngAAAAAAAJhAeAIAAAAAAGAC4QkAAAAAAIAJhCcAAAAAAAAmWGd2AUB25JLXWla2DpldRo6QEHdPt+7EZ3YZAAAAALIxwhMgA1jZOujs18Uzu4wcodjgM5IiM7sMAAAAANkYt+0AAAAAAACYQHgCAAAAAABgAuEJAAAAAACACYQnAAAAAAAAJhCeAAAAAAAAmEB4AgAAAAAAYALhCQAAAAAAgAmEJwAAAAAAACYQngAAAAAAAJhAeAIAAAAAAGAC4QkAAAAAAIAJhCcAAAAAAAAmEJ4AAAAAAACYQHgCAAAAAABgAuEJAAAAAACACYQnAAAAAAAAJhCeAAAAAAAAmEB4AgAAAAAAYALhCQAAAAAAgAmEJwAAAAAAACYQngAAAAAAAJhAeAIAAAAAAGAC4QkAAAAAAIAJhCcAAAAAAAAmEJ4AAAAAAACYQHgCAAAAAABgAuEJAAAAAACACYQnAAAAAAAAJhCeAAAAAAAAmEB4AgAAAAAAYALhCQAAAAAAgAmEJwAAAAAAACYQngAAAAAAAJhAeAIAAAAAAGAC4QkAAAAAAIAJhCcAAAAAAAAmEJ4AAAAAAACYQHgCAAAAAABgAuEJAAAAAACACYQnAAAAAAAAJhCeAAAAAAAAmEB4AgAAAAAAYALhCQAAAAAAgAmEJwAAAAAAACZkufDk+vXrGjFihOrXry9vb2+98sorGjhwoC5cuJBq7po1a9SiRQtVrVpV9erV0/jx4xUdHZ1q3pYtW/TWW2+pWrVq6tixo06dOpVqzq1bt1S9enWFhIRkyLoAAEDWQT8CAEDOkqXCk+vXr+uDDz7Q0qVLVbJkSXXo0EGVKlVSWFiY3n//fZ09e9Y4Nzg4WP7+/kpMTFT79u1Vrlw5LViwQF27dlVcXJxx3tWrV9W/f3/Z2NjI19dX586dU9euXRUbG5via8+ZM0d58uSRr6+vpZYLAABeQPQjAADkPNaZXYA5vvvuO12+fFlDhgxR586djePr1q3ToEGDNGHCBAUFBenff//VtGnTVK1aNYWEhMjGxkaSFBgYqJkzZ2rZsmVq3769JGn9+vWKj4/X/Pnz5eHhoSZNmsjX11fbt29X48aNJT1saEJDQzVs2DDZ2tpafuEAAOCFQT8CAEDOk6WuPNm8ebNcXFzUqVOnFOPNmzeXl5eX/vjjDyUmJmrp0qWKj49Xjx49jI2KJPXs2VPOzs5avny5cezixYtycXGRh4eHJKl8+fLG8WSzZs2Su7u7WrVqlZHLAwAAWQD9CAAAOU+WufIkISFBPXr0kLW1tXLlSp352Nra6sGDB3rw4IH27t0rSapVq1aKOXZ2dqpatar++OMPRUZGKnfu3MqbN69iYmKUlJQkg8GgqKgoSVLu3LklPWxaVqxYoXHjxsnaOst8uwAAQAagHwEAIGfKMleeWFlZqVOnTmrXrl2qY6dOndLp06fl5eUlOzs7nT9/Xi+99JKcnZ1TzS1cuLAk6cyZM5KkKlWqKCYmRiEhIYqOjtbcuXNlMBhUtWpVSdL06dNVtGhRNWvWLANXBwAAsgL6EQAAcqYs/9FFYmKixowZo8TERLVp00aSFBERoSJFiqQ5P/kTnORPdBo2bKgGDRpo3LhxGjdunCSpa9euKlOmjE6dOqV169ZpypQpxk+XEhMT0/ykCQAA5Fz0IwAAZG9ZOjxJSkrSiBEjtHPnTnl7exvvPY6Pj3/sRmrJ4/fv3zeOzZo1S1u3btW5c+dUuXJl1axZU5I0bdo0lS1bVo0bN9a5c+c0ePBghYeHq0CBAvL391fTpk2fWKOVlUH58jk+71KRQXhvsgfex+yB9zF7yInvI/0InhfvTfbA+5g98D5mDxnxPmbZ8CQ+Pl7Dhw/XqlWr5OnpqZkzZxobEXt7ez148CDN1yU/FtDBwcE4ZjAY1KhRoxTzjh49qg0bNigoKEgGg0GDBg3SvXv3FBwcrO3bt2vgwIEqV66cihcvbrLOhIQkRUTEPPW63NxyP/VcPD9z3htz8D5aFu9j9sD7mD3ktH/z6EeQHvj9lz3wPmYPvI/ZQ0b8m5clr/e8d++eevXqpVWrVqlYsWJauHChcXd6ScqTJ48iIyPTfG3yePLlso/z7bffqkqVKnr99dd17NgxhYeH67PPPlP9+vU1dOhQ5cmTR8uWLUu/RQEAgCyFfgQAgJwjy4Und+7cUadOnbR9+3ZVqFBBoaGhKlSoUIo5xYoV082bNxUbG5vq9ZcuXVKuXLlUtGjRx36NAwcOaNu2berfv78k6dy5c5JkfI21tbU8PT11/vz59FoWAADIQuhHAADIWbJUeHL//n316NFD4eHhql27tkJCQuTq6ppqXo0aNZSYmKh9+/alev3BgwdVqlSpNHe+TzZ16lT5+PioTp06kh4+lvDR/yefy2AwpMeyAABAFkI/AgBAzpOlwpMpU6bowIEDqlatmubMmfPYhqNZs2aysrLS9OnTjfcUS1JQUJCioqLk6+v72K+xc+dO7d692/gpjyTjfcTh4eGSHn7adPbsWRUrViwdVgUAALIS+hEAAHKeLLNh7PXr17Vo0SJJUokSJTRnzpw053Xv3l0lSpRQly5dNGfOHLVo0UINGjTQyZMntW3bNlWvXt34CMG0TJ06VfXq1VP16tWNY+XLl1fFihU1fvx4HT9+XPv27VNCQoLJpgcAAGQ/9CMAAORMWSY8CQ8PN+5Yv3LlysfO69Spk+zs7DRgwAAVLFhQoaGhWrhwodzc3PTxxx/Lz8/vsY8N3Lp1q8LDw9M8/4wZMxQQEKAlS5aocOHCmjZtmjw9PdNncQAAIEugHwEAIGfKMuHJG2+8oePHjz/1fIPBoHbt2qldu3ZP/ZqGDRs+9msULFhQ8+bNe+pzAQCA7Id+BACAnClL7XkCAAAAAABgaYQnAAAAAAAAJhCeAAAAAAAAmEB4AgAAAAAAYALhCQAAAAAAgAmEJwAAAAAAACYQngAAAAAAAJhAeAIAAAAAAGAC4QkAAAAAAIAJhCcAAAAAAAAmEJ4AAAAAAACYQHgCAAAAAABgAuEJAAAAAACACYQnAAAAAAAAJhCeAAAAAAAAmEB4AgAAAAAAYALhCQAAAAAAgAmEJwAAAAAAACYQngAAAAAAAJhAeAIAAAAAAGAC4QkAAAAAAIAJhCcAAAAAAAAmEJ4AAAAAAACYQHgCAAAAAABgAuEJAAAAAACACYQnAAAAAAAAJhCeAAAAAAAAmEB4AgAAAAAAYALhCQAAAAAAgAmEJwAAAAAAACYQngAAAAAAAJhAeALg/7V353FV1fkfx98ssriA2pgmo6HlRSMBFcEdDIXGZZRs0lKxzJocsf2RpL+mdGz00TKm5mhjPkLTmsTdyhRcxsSMRBSXlDLcSAzHUpZUlvP7w+GOd+71iMoi19fzHx/3fL/ne7/HG/juc773ewAAAAAAJiieAAAAAAAAmKB4AgAAAAAAYILiCQAAAAAAgAmKJwAAAAAAACYongAAAAAAAJigeAIAAAAAAGCC4gkAAAAAAIAJiicAAAAAAAAmKJ4AAAAAAACYoHgCAAAAAABgguIJAAAAAACACYonAAAAAAAAJiieAAAAAAAAmKB4AgAAAAAAYILiCQAAAAAAgAmKJwAAAAAAACYongAAAAAAAJigeAIAAAAAAGCC4gkAAAAAAIAJiicAAAAAAAAmKJ4AAAAAAACYoHgCAAAAAABgguIJAAAAAACACYonAAAAAAAAJiieAAAAAAAAmKB4AgAAAAAAYILiCQAAAAAAgAmKJwAAAAAAACYongAAAAAAAJigeAIAAAAAAGCC4gkAAAAAAIAJiicAAAAAAAAmKJ4AAAAAAACYoHgCAAAAAABgguIJAAAAAACACYonAAAAAAAAJiieAAAAAAAAmKB4AgAAAAAAYILiCQAAAAAAgAmKJwAAAAAAACYongAAAAAAAJigeAIAAAAAAGCC4gkAAAAAAIAJiicAAAAAAAAmKJ4AAAAAAACYoHgCAAAAAABgguIJAAAAAACACYonAAAAAAAAJiieAAAAAAAAmKB4AgAAAAAAYILiCQAAAAAAgAmKJwAAAAAAACYongAAAAAAAJigeAIAAAAAAGCC4gkAAAAAAIAJiicAAAAAAAAmKJ4AAAAAAACYoHgCAAAAAABgguIJAAAAAACACYonAAAAAAAAJpy6eFJSUqLExET169dPQUFBioqK0pw5c1RcXGzTb+nSpYqIiFCnTp00duxYnTp1ym6sw4cPq127dtq0aVN1TR8AADgB8ggAALWfUxdPpkyZomnTpqlhw4aKi4tT06ZNNWvWLL3wwgvWPvv27dMrr7yipk2basiQIUpPT9e4ceNkGIbNWDNnzlT79u113333VfdlAACAWow8AgBA7ede0xOoKrt27dInn3yimJgYzZw5Uy4uLjIMQwkJCVq1apU2b96s3r17a/ny5fL19dWiRYvk5eWl4OBgPf/889q/f7/uvfdeSdL+/fu1YcMGLViwoIavCgAA1CbkEQAAnIPTrjxZsmSJJCk+Pl4uLi6SJBcXFz3//PNycXFRUlKSJOnEiRPy9/eXl5eXJKlt27bW4+Xeeecdde7cWd27d6/OSwAAALUceQQAAOfgtCtPdu7cqUaNGslisdgcb9q0qfz9/fXNN99Iknx8fHTy5Elre2FhoSSpQYMGkqT09HRt3brVGn4AAAAqijwCAIBzcMqVJxcvXlRubq5atmzpsN3Pz0/nzp3TmTNnFBISou+++07JyckqKChQYmKivL291a5dO0mX7vL06NFDoaGh1XkJAACgliOPAADgPJxy5ckvv/wi6b93a/5X+fH8/Hw99NBDWrlypeLj4yVJrq6umjRpkho3bqzU1FSlpaVZl9RKUllZmVxdnbLmBAAAKhF5BAAA5+GUxZOSkhJJkoeHh8P28uMXLlyQp6en/vnPfyolJUU//fSTOnfurMDAQEmX7vL06dNHQUFByszM1MSJE/X999+rVatWeu211xQeHl49FwQAAGod8ggAAM7DKYsn5ZutFRcXO2y/ePGiJMnb21vSpfDSr18/mz4pKSnau3evVq9ereLiYo0fP1533nmn5s+fr2XLlik+Pl4pKSny9fU1nUudOm5q0sTxHacrSfrzw9fUH9fvWj+ba+H/UnaVjQ1bVfk57p68u8rGhq2q/BxH/WdfCVS9qvwcaxvyCCqKPOIcyCPOgTziHKric3TK9Z7169eXq6urCgoKHLbn5+dLuvIyWsMwNHPmTPXr108BAQHaunWrcnNzNWnSJPXs2VNTpkxRYWGh1q5dW2XXAAAAajfyCAAAzsMpiyceHh5q3ry5zeP9LnfixAk1atRIDRs2dNj+2Wef6fDhwxo/frwk6ejRo5Ikf39/SZKvr68aNWqkY8eOVf7kAQCAUyCPAADgPJyyeCJJnTp1Ul5enrKzbZcqnjp1SkePHlVISIjD80pKSjR79mwNGjRIrVq1sh67/E/p0veTXVxcqmj2AADAGZBHAABwDk5bPBk8eLAkacaMGSorK5N0afnr3/72NxmGoaFDhzo8b+XKlcrJydG4ceOsx1q3bi1J2rNnjyTp8OHDys/Pt975AQAAcIQ8AgCAc3AxDMOo6UlUleeee06ff/65goKCFB4eroyMDO3cuVMxMTGaOXOm3Z2aixcvKiYmRhEREXrttdesx8+fP6+YmBiVlpaqf//+2rRpk86dO6eNGzeqfv361XwczWOdAAAVaElEQVRVAACgNiGPAABQ+7m9dvm/yk4mKipK7u7uysjIUGpqqtzc3BQXF6eXX35Z7u72Dxr66KOPlJKSolmzZtmEEHd3d3Xr1k3p6enauHGjmjVrprfeekt33nlndV4OAACohcgjAADUfk698gTXb/bs2Xr33Xdtjrm4uMjLy0u33367wsPD9eijj+quu+6ytgcEBFR4/GnTpumBBx6otPnCsRUrVujll1+uUN+kpCQNHTpUnp6eWrt2rVq0aOGwX0FBgfr376/c3FwlJiaqa9eulTllp1T+83Sl/+5Pnjyp4cOHKycnR4899phGjBihqKgou37lP4PNmzdXZGSknnzySZuNJkeOHKm0tDRJ0pIlSxQaGnrFOQ0cOFBZWVny8/PTpk2b7NqLi4uVnJysNWvW6LvvvlNeXp68vb3VunVrRUdHa9iwYdbHq97qHP2+lC79j279+vVlsVj04IMPatCgQfr6668VFxenmJgYzZo1y+6cJUuWaMqUKZIuPaL2f38OL168qNDQUPn4+Gjbtm02badOndLSpUu1ceNG5eTk6MKFC2rRooV69+6txx9/XI0aNarEqwaqHlnEeZBHbg7kEedGHql69rc7gMtERUWpXbt2kqSysjIVFBTo4MGDWrp0qdasWaOZM2cqMjJSkhQfH29zbk5OjlauXKm2bduqT58+Nm3lY6J6hIWFKSwszLRPUFCQRo4cqYULF2ry5Ml6//33HfZ75513lJubq6FDhxJUKkFeXp4effRR5eTkKC4uTgkJCdYnc/j5+Sk2Ntba1zAMFRUVaceOHVqwYIE2b96sZcuWqV69enbjJicnXzGsHDlyRFlZWVec08mTJ/XMM89oz549uu2229S9e3c1a9ZMBQUF+uqrrzR9+nQtXrxYiYmJVwy1t6LLf19Klzb1PHPmjNatW6eXXnpJP/zwg8aNGydPT0/t3r3b4RipqalydXVVWVmZUlNTNWzYMJv2ffv26cKFC3Y/e8nJyUpISFBBQYHCwsI0aNAgSdKuXbs0f/58rVq1SkuWLGGFAmolsojzII/cvMgjzoM8UoUMwIFZs2YZFovFWL58ucP2LVu2GIGBgUZISIhx5MgRh3127NhhWCwWY8KECVU5VZhYvny5YbFYjFmzZlWof2FhodG7d2/DYrEYn376qV17Zmam0bZtWyMiIsLIz8+v7Ok6rSv9PJ05c8bo37+/YbFYjClTpliPHz9+3LBYLMaIESMcjldaWmo8/vjjhsViMebMmWM9PmLECMNisRjdu3c3evfufcX5zJ071wgMDDTuvfdeu36//vqrER0dbVgsFuPNN980zp8/b9NeVlZmJCYmGgEBAcYDDzxglJaWVvjvwVld7fdldna2ERISYrRr1844ceKEMXLkSMNisRgnT5606VdSUmJ06tTJeOqpp4zAwEBj/PjxdmP94x//sHuvtLQ0o23btkaXLl2MjIwMu3M+/PBDw2KxGL1797b7PIGbGVnEeZBHbg7kEedGHql6Tvu0HVStiIgIPfPMMyoqKtLf//73mp4OKkndunWtmxP+9a9/1blz56xtpaWl+vOf/6yysjL95S9/YXPCG5Sfn6/HH39c3333nR5++GG98sorFT7X1dVVo0ePliRt3brVrj0qKko5OTk6cOCAw/PXr1+vrl27ytPT065tzpw5OnLkiAYMGKAXX3zRro+Li4tGjRqlAQMGaN++fdqxY0eF532r8vf3V1RUlEpLS7Vt2zaFh4dLkjIyMmz67dmzR/n5+YqIiFCHDh20Y8cO69NZyu3atUuSrHd6ysrKlJCQoLKyMr377rsOH3s7YsQIDRgwQDk5OVqxYkVVXCJQI8gizos8Un3II7cO8siNo3iC6zZixAh5enpqw4YNKikpqenpoJL06tVLAwYM0OnTp/X2229bjy9atEgHDhzQkCFD1LNnzxqcYe1XVFSkJ554Qvv379fQoUP16quvXvMYTZs2lST9/PPPdm0xMTGSpA0bNti1HT9+XAcOHLD2uVxpaamWLVsmd3d3JSQkmL5/XFycHnzwQZvvOOPKyj+vX375xRpWyh83W2779u2SLgWRLl266OzZs9q3b59Nn4yMDPn7++uOO+6QJO3YsUMnTpxQeHi4OnXqdMX3f+qppzRx4kTrewPOgizivMgjVY88cushj9wYiie4bt7e3rrnnntUVFSkb7/9tqang0o0adIkNWzYUElJScrKytJPP/2k2bNnq2nTphXe8A2OXbhwQWPHjlVGRoYefPBBTZ482e4xpRVx9OhRSf/9R/By9957r/z8/JScnGzX9sUXX8jd3d3uu/+SlJ6erjNnzigkJERNmjQxff+goCC9/vrruueee6557reiY8eOSbr0eQUFBcnb29vue8apqany8/PTnXfeqW7dulmPlTt8+LB+/vlndenSxXqs/E5fjx49TN+/TZs2GjVqlFq3bl0p1wPcLMgizo08UnXII7cm8siNYcNY3JDyX5R5eXk1PBOYSUtL0+zZs6/Y3rNnT5vldY0bN9bLL7+sCRMmaPr06WrSpIkKCws1Y8YMNWjQoDqm7JRKSko0fvx469LSbt26XVdQuXDhgubNmydJio6Odtinb9++SkxMVHZ2tlq1amU9vn79enXp0sXhHZryANSmTZtrnhOubO/evdq0aZO8vLzUq1cveXh4qEOHDtq5c6cuXrwoDw8PFRQUKDMzU4MHD5YktW/fXvXr19f27ds1duxYSZfCpCSbzdlyc3MlyeYzBm41ZJHagzxycyCP3JrIIzeO4gluiIeHh6RLj4vDzSstLc36yDhHGjRoYPfdxMGDB2vNmjXWSnNsbKwiIiKqdJ7ObubMmTp9+rR69uyp1NRUTZ48WZ06dVKzZs0c9s/JybEJmYZh6N///re+/PJL5eTkqGPHjho6dKjDc6Ojo5WYmKjk5GQ9+eSTkqQff/xRe/fu1dSpUx2ec+bMGUmSr6+vXdvx48e1atUqu+N+fn486vM/UlJSlJOTY31dUlKi7OxsbdmyRSUlJZo4caIaN24sSQoPD9f27dv17bffKjg4WF9//bVKSkqsd3jc3d3VuXNnbdu2Tb/++qu8vb21a9cuubi42Cx1zc/PlySHTzgAbhVkkdqDPHJzII84N/JI1aF4ghtSWFgo6dLGXrh5xcfHa/z48dd83uTJk9WnTx/Vr1+f5bGV4PTp0xo0aJCmT5+uN954Qx988IEmTJigxMREh3d8cnJy9O6771pfu7q6ql69emrVqpWGDRumuLg41alTx+F7dezYUU2aNNGGDRusYWX9+vVXXCIr/TeknD171q7t+PHjNnMpFxYWRlj5j40bN2rjxo3W13Xq1FHDhg3VvXt3DR8+3GYpa3ng2L17t4KDg7V9+3a5uLjY3MXp2rWrNm/erIyMDHXr1k3p6elq166dGjVqZO1TfsfO0WcG3CrIIrUHeeTmQB5xbuSRqkPxBDekvKrJs9WdU/nn6uvr67D6j2sTExOjadOmydXVVc8995y2bNmiHTt26IMPPrDuVn+5sLAwffjhh9f1Xi4uLurbt68+/vhj5ebmqlmzZlq/fr3Cw8Nt/rG73G9/+1tJ//0+7OW6deumQ4cOWV+fO3dOnTt3vq65Oatp06ZVOLi1b99edevW1e7duzVq1CilpqbKYrFY7wRJ/10Om5aWJovFomPHjtn9d2L2mf2vw4cP66677qro5QC1BlnE+ZFHKhd5xLmRR6oOG8biup09e1bff/+9fHx8dPfdd9f0dICbXmRkpNzc3CRJnp6emj59utzc3DRjxgybIFBZoqOjZRiGkpOTderUKe3evVv333//FfuHhYXJx8dHaWlpTn/noKa5u7urY8eO2rdvn06dOqXs7GzrEtlyFotFTZo0UUZGht0jAcuVP2li27Ztpu+XmZmpfv366ZFHHqnEqwBqHlkEuHbkEZQjj1wbiie4bp988olKSkr0u9/9zvoLGEDFhYSE6LHHHtPFixf14osv6uLFi5U6flhYmBo1aqTk5GQlJyfL1dX1iktkpUv7BgwZMkTFxcV64403TMcuKyur1LneisLDw3Xs2DFt2bJFkn0QkaQuXbro0KFDysjIUJ06dRQaGmrT3qFDB/n7+ystLc26gZsjixYtkiS7QATUdmQR4MaRR25t5JGKo3iC6/LVV19pzpw5qlu3rv74xz/W9HSAWuuZZ57RXXfdpaysLL399tuVOrabm5uioqKUnp6uFStWKDw83GYZpiPPPvus7r77bi1btkyvvfaaioqK7PocOHDAuuP69ezOj0vKH/G3ePFi1alTx+Gy465du+rnn3/W5s2bFRwcbLeng5ubmyZNmiRJevrpp+0eN1haWqq5c+dq7dq1uuOOOzRq1Kgquhqg+pFFgMpDHrl1kUcqjj1PYOry3ZoNw1B+fr4OHDignTt3ysvLSzNmzJCfn18NzxJXc7VHA0pSv379au33D2szDw8PTZ8+XcOGDdPChQsVGRlZqd/bj46O1rJly7R//35NmTLlqv29vLy0cOFCvfTSS/r444+1evVq9ezZUy1atND58+eVkZGh/fv3S5J69eqlV199tdLmeqsJDAxU/fr1lZWVpc6dOzvc7LL8zkx2drYGDBjgcJxevXpp6tSpevXVVzV06FCFhYUpMDBQRUVF+uabb/TDDz+oSZMmmjdvHo/2RK1EFnEe5JGbF3nk1kUeqTiKJzD1v7s1e3t7y8/PTyNGjNCoUaPUsmXLGpwdKupqjwaUpHbt2hFWakhQUJDGjBmj9957TxMmTNC8efMqbeyuXbvKx8dHhYWF6tu3b4XO+c1vfqMFCxZo69atWrVqlQ4cOKB//etfcnNzk5+fn4YPH67Y2Fi1b9++0uZ5K3Jzc1NoaKi2bNnicImsJN1xxx3y9/fXkSNHrHeGHPnDH/6gkJAQLV68WOnp6UpKSlJxcbFatmypp556SqNHj2aTRdRaZBHnQR65uZFHbk3kkYpzMQzDqOlJAAAAAAAA3KzY8wQAAAAAAMAExRMAAAAAAAATFE8AAAAAAABMUDwBAAAAAAAwQfEEAAAAAADABMUTAAAAAAAAExRPAAAAAAAATFA8AXBTGDNmjAICAvTkk09W6fv86U9/UkBAgE6cOGE9FhAQoEGDBtn0y87O1rp166p0LgAA4OZCHgFwJRRPANS4vLw8bd++Xd7e3tq2bZtyc3Or9f3j4+M1bNgw6+uDBw9q4MCB2rVrV7XOAwAA1BzyCAAzFE8A1Li1a9eqtLRUY8aMUWlpqZYvX16t7z9+/Hg9/PDD1tdnz55VcXFxtc4BAADULPIIADMUTwDUuFWrVsnX11djxoxRgwYNtHz5chmGUdPTAgAAtxDyCAAzFE8A1KiDBw/q0KFD6tq1q7y8vNSnTx/l5ORo+/btNv1WrFihgIAAJSYm2o0xcuRIBQQE6Ny5c9ZjpaWlev/99xUTE6OgoCANHDhQGzZscDiHy79jPHv2bMXFxUmSFi1apICAAH399dfWvqmpqXrsscfUsWNHBQUFKTY2VkuWLFFZWZndmAkJCZo3b55CQ0MVGhrqcO4AAKDmkUcAXA3FEwA1atWqVZKkfv362fyZlJR0Q+MmJCTozTfflLu7u4YOHapmzZrp6aef1p49e0zPCwsLU2xsrCQpODhY8fHx8vPzkyR9+OGHGj16tPbu3au+fftqyJAhys/P15QpU/TCCy/Y3Z368ssvNX/+fA0ePFg9evRQcHDwDV0TAACoGuQRAFfjXtMTAHDrKi0t1aeffqp69eopMjJSktS9e3fddtttSklJ0ZkzZ9S4ceNrHnfHjh1as2aNevTooblz58rDw0OStGTJEk2ZMsX03PDwcEnSypUrFRwcrPHjx0uSjh8/runTp6t58+ZatGiRWrRoIUkqKirS2LFj9fnnnysiIkKDBw+2jnX69GnNnTtX99133zVfAwAAqB7kEQAVwcoTADUmNTVVeXl56tu3rzw9PSVJbm5uuv/++1VcXKw1a9Zc17ifffaZJOnZZ5+1BhVJGj58uFq3bn1dY65Zs0YlJSUaN26cNahIUt26dfV///d/kmS3sZyXl5ciIiKu6/0AAED1II8AqAiKJwBqzOrVqyVJ/fv3tzk+cOBASde/VPbgwYNyc3NTu3bt7No6dOhw3WNKUufOne3a2rRpIx8fH2ufcs2aNZObm9t1vR8AAKge5BEAFcHXdgDUiIKCAqWkpEiSnnjiCYd9vv/+e2VkZFxzwDh37pw8PT3l7m7/K87X1/faJ6tL85WkBg0aOGy//fbbdfToUZtjXl5e1/VeAACgepBHAFQUxRMANeKLL77Q+fPn1b59e91zzz127dnZ2UpLS1NSUpI6dOggFxeXK47166+/2rz28fHRsWPHVFxcrDp16ti0FRUVXdd869WrJ0n66aefHH7v+ezZs2rYsOF1jQ0AAGoGeQRARVE8AVAjypfIJiQkKDQ01K79xx9/VFRUlNatW6eJEydaQ0dhYaFNP8MwdPz4cZtjgYGByszM1J49e+zG3rdv31Xn5igYtW3bVsnJydq5c6fatm1r03b06FHl5eWpW7duVx0bAADcPMgjACqKPU8AVLucnBx988038vPzU6dOnRz2ad68ubp06aKioiJ9/vnn1o3VvvzyS5WWllr7ffTRR/rll19szo2NjZWLi4veeust6/JW6dLGbRUJK+XLa4uLi63HBg0aJHd3d82bN88mHBUVFVl3zB80aNBVxwYAADcH8giAa8HKEwDVbvXq1TIMQwMHDjRd/vrAAw9o+/btSkpK0kMPPaTAwEBlZGTokUceUefOnZWVlaWvvvpKwcHB2rNnj/W84OBgjR49WgsWLNDgwYMVGRmp3NxcpaSkqGXLljp27Jjp/Jo2bSpJWrdunerWravY2Fi1adNGEyZM0Ouvv67Y2Fj16dNHdevW1datW3X8+HH179/f5rGAAADg5kYeAXAtWHkCoNqVP/Lv97//vWm/6Oho+fj4KDMzU4cOHdJ7772n2NhYHTlyRIsXL1ZRUZEWLlyo4OBgu3NfeuklTZ06Vd7e3lq6dKmysrI0depURUZGXnV+fn5+evbZZ+Xi4qIlS5YoMzNTkhQXF6f58+crMDBQGzZs0MqVK9WwYUNNnTpVb7/99rX/RQAAgBpDHgFwLVwMwzBqehIAAAAAAAA3K1aeAAAAAAAAmKB4AgAAAAAAYILiCQAAAAAAgAmKJwAAAAAAACYongAAAAAAAJigeAIAAAAAAGCC4gkAAAAAAIAJiicAAAAAAAAmKJ4AAAAAAACYoHgCAAAAAABg4v8B+SEc33hxBEMAAAAASUVORK5CYII=\n",
      "text/plain": [
       "<Figure size 1296x720 with 2 Axes>"
      ]
     },
     "metadata": {},
     "output_type": "display_data"
    }
   ],
   "source": [
    "import seaborn as sns\n",
    "test = range(0,8)\n",
    "table = genSummaryTable(my_item,df_sent_final,final_kam_group,group_filer = ['auditor'],output=False).reset_index()\n",
    "my_list = ['PRICEWATERHOUSECOOPERS LLP','KPMG LLP','DELOITTE LLP','ERNST & YOUNG LLP']\n",
    "table = table[table.Filter.isin(my_list)]\n",
    "table = table[table.Type.isin(['sentence'])]\n",
    "table = table.sort_values(by='Type').reset_index(drop=False)\n",
    "table.loc[table.Filter=='DELOITTE LLP', 'Filter'] = 'DT' \n",
    "table.loc[table.Filter=='PRICEWATERHOUSECOOPERS LLP', 'Filter'] = 'PWC' \n",
    "table.loc[table.Filter=='ERNST & YOUNG LLP', 'Filter'] = 'EY' \n",
    "table.loc[table.Filter=='KPMG LLP', 'Filter'] = 'KPMG' \n",
    "my_font_size = 20\n",
    "\n",
    "if my_item == 'kam_addressing':\n",
    "    my_palette ={\"DT\":\"royalblue\",\"PWC\":\"lightcoral\",\"EY\":\"sandybrown\",\"KPMG\":\"lightgreen\"}\n",
    "else:\n",
    "    my_palette ={\"DT\":\"steelblue\",\"PWC\":\"firebrick\",\"EY\":\"darkorange\",\"KPMG\":\"forestgreen\"}\n",
    "\n",
    "fig, ax = plt.subplots(1,2,figsize=(18,10))\n",
    "sns.barplot(x='Filter',y='Percent',data=table, ax=ax[1],palette=my_palette)\n",
    "\n",
    "ax[1].set_title('Sentence-level',fontweight=\"bold\", size=my_font_size)\n",
    "ax[1].tick_params(axis=\"x\", labelsize=my_font_size)\n",
    "ax[1].tick_params(axis=\"y\", labelsize=my_font_size)\n",
    "\n",
    "\n",
    "ax[1].set_xlabel('Auditor',fontsize=my_font_size)\n",
    "ax[1].set_ylabel('Percentage',fontsize=my_font_size)\n",
    "ax[1].set_yticks(range(0,110,20))\n",
    "vals = ax[1].get_yticks()\n",
    "ax[1].set_yticklabels(['{:.0%}'.format(x/100) for x in vals],fontsize=my_font_size)\n",
    "\n",
    "for idx, p in enumerate(ax[1].patches):\n",
    "    ax[1].annotate('{:.0%}'.format(table['Percent'][idx]/100),( p.get_x(),p.get_height()), xytext=(50, 10),color='black',fontsize=my_font_size-3,textcoords='offset points',ha='center')\n",
    "\n",
    "\n",
    "table = genSummaryTable(my_item,df_sent_final,final_kam_group,group_filer = ['auditor'],output=False).reset_index()\n",
    "my_list = ['PRICEWATERHOUSECOOPERS LLP','KPMG LLP','DELOITTE LLP','ERNST & YOUNG LLP']\n",
    "table = table[table.Filter.isin(my_list)]\n",
    "table = table[table.Type.isin(['KAM component'])]\n",
    "table = table.sort_values(by='Type').reset_index(drop=False)\n",
    "table.loc[table.Filter=='DELOITTE LLP', 'Filter'] = 'DT' \n",
    "table.loc[table.Filter=='PRICEWATERHOUSECOOPERS LLP', 'Filter'] = 'PWC' \n",
    "table.loc[table.Filter=='ERNST & YOUNG LLP', 'Filter'] = 'EY' \n",
    "table.loc[table.Filter=='KPMG LLP', 'Filter'] = 'KPMG' \n",
    "my_font_size = 20\n",
    "\n",
    "\n",
    "\n",
    "\n",
    "sns.barplot(x='Filter',y='Percent',data=table, ax=ax[0],palette=my_palette)\n",
    "ax[0].set_title('KAM-Component-level',fontweight=\"bold\", size=my_font_size)\n",
    "ax[0].tick_params(axis=\"x\", labelsize=my_font_size)\n",
    "ax[0].tick_params(axis=\"y\", labelsize=my_font_size)\n",
    "\n",
    "\n",
    "ax[0].set_xlabel('Auditor',fontsize=my_font_size)\n",
    "ax[0].set_ylabel('Percentage',fontsize=my_font_size)\n",
    "ax[0].set_yticks(range(0,110,20))\n",
    "vals = ax[0].get_yticks()\n",
    "ax[0].set_yticklabels(['{:.0%}'.format(x/100) for x in vals],fontsize=my_font_size)\n",
    "\n",
    "for idx, p in enumerate(ax[0].patches):\n",
    "    ax[0].annotate('{:.0%}'.format(table['Percent'][idx]/100),( p.get_x(),p.get_height()), xytext=(50, 10),color='black',fontsize=my_font_size-3,textcoords='offset points',ha='center')\n",
    "\n",
    "\n",
    "fig.savefig('..\\\\Outputs\\\\Figures\\\\'+my_item+'_barplots_by_auditors.jpg',bbox_inches='tight')"
   ]
  },
  {
   "cell_type": "markdown",
   "metadata": {},
   "source": [
    "The figure above includes the percentage of similar sentences and components across each of the Big-4 firms. The figure shows that KPMG has the highest proportion of similar text across both sentences and components. This should send out a red flag to investors when they read financial reports prepared by KPMG. That is, there is likely to be little new information for investors."
   ]
  }
 ],
 "metadata": {
  "kernelspec": {
   "display_name": "Python 3",
   "language": "python",
   "name": "python3"
  },
  "language_info": {
   "codemirror_mode": {
    "name": "ipython",
    "version": 3
   },
   "file_extension": ".py",
   "mimetype": "text/x-python",
   "name": "python",
   "nbconvert_exporter": "python",
   "pygments_lexer": "ipython3",
   "version": "3.7.3"
  }
 },
 "nbformat": 4,
 "nbformat_minor": 2
}
