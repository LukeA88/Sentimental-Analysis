{
 "cells": [
  {
   "cell_type": "markdown",
   "metadata": {},
   "source": [
    "## Ch1 - Polarity Scoring\n",
    "Panit (Luke) Arunanondchai\n",
    "\n",
    "### Jump right in! Visualize polarity\n",
    "\n",
    "Sentiment analysis helps you extract an author's feelings towards a subject. This exercise will give you a taste of what's to come!\n",
    "\n",
    "We created text_df representing a conversation with person and text columns.\n",
    "\n",
    "Use qdap's polarity() function to score text_df. polarity() will accept a single character object or data frame with a grouping variable to calculate a positive or negative score.\n",
    "\n",
    "In this example you will use the **magrittr** package's dollar pipe operator **%\\\\$%**. The dollar sign forwards the data frame into polarity() and you declare a text column name or the text column and a grouping variable without quotes."
   ]
  },
  {
   "cell_type": "code",
   "execution_count": null,
   "metadata": {
    "collapsed": true
   },
   "outputs": [],
   "source": [
    "text_data_frame %\\\\$% polarity(text_column_name)"
   ]
  },
  {
   "cell_type": "markdown",
   "metadata": {},
   "source": [
    "To create an object with the dollar sign operator:"
   ]
  },
  {
   "cell_type": "code",
   "execution_count": null,
   "metadata": {
    "collapsed": true
   },
   "outputs": [],
   "source": [
    "polarity_object <- text_data_frame %$% \n",
    "  polarity(text_column_name, grouping_column_name)"
   ]
  },
  {
   "cell_type": "markdown",
   "metadata": {},
   "source": [
    "More specifically, to make a quantitative judgement about the sentiment of some text, you need to give it a score. A simple method is a positive or negative value related to a sentence, passage or a collection of documents called a corpus. Scoring with positive or negative values only is called **\"polarity.\"** A useful function for extracting polarity scores is **counts()** applied to the polarity object. For a quick visual call plot() on the polarity() outcome."
   ]
  },
  {
   "cell_type": "code",
   "execution_count": 11,
   "metadata": {
    "collapsed": false
   },
   "outputs": [],
   "source": [
    "# install.packages(\"magrittr\")\n",
    "# install.packages(\"qdap\")\n",
    "library(magrittr)\n",
    "library(qdap)"
   ]
  },
  {
   "cell_type": "code",
   "execution_count": 7,
   "metadata": {
    "collapsed": false
   },
   "outputs": [
    {
     "data": {
      "text/html": [
       "<table>\n",
       "<thead><tr><th scope=col>person</th><th scope=col>text</th></tr></thead>\n",
       "<tbody>\n",
       "\t<tr><td>Nick                                                                      </td><td> DataCamp courses are the best                                            </td></tr>\n",
       "\t<tr><td>Jonathan                                                                  </td><td>I like talking to students                                                </td></tr>\n",
       "\t<tr><td>Martijn                                                                   </td><td>Other online data science curricula are boring.                           </td></tr>\n",
       "\t<tr><td>Nicole                                                                    </td><td>What is for lunch?                                                        </td></tr>\n",
       "\t<tr><td>Nick                                                                      </td><td>DataCamp has lots of great content!                                       </td></tr>\n",
       "\t<tr><td>Jonathan                                                                  </td><td>Students are passionate and are excited to learn                          </td></tr>\n",
       "\t<tr><td>Martijn                                                                   </td><td>Other data science curriculum is hard to learn and difficult to understand</td></tr>\n",
       "\t<tr><td>Nicole                                                                    </td><td>I think the food here is good.                                            </td></tr>\n",
       "</tbody>\n",
       "</table>\n"
      ],
      "text/latex": [
       "\\begin{tabular}{r|ll}\n",
       " person & text\\\\\n",
       "\\hline\n",
       "\t Nick                                                                       &  DataCamp courses are the best                                            \\\\\n",
       "\t Jonathan                                                                   & I like talking to students                                                \\\\\n",
       "\t Martijn                                                                    & Other online data science curricula are boring.                           \\\\\n",
       "\t Nicole                                                                     & What is for lunch?                                                        \\\\\n",
       "\t Nick                                                                       & DataCamp has lots of great content!                                       \\\\\n",
       "\t Jonathan                                                                   & Students are passionate and are excited to learn                          \\\\\n",
       "\t Martijn                                                                    & Other data science curriculum is hard to learn and difficult to understand\\\\\n",
       "\t Nicole                                                                     & I think the food here is good.                                            \\\\\n",
       "\\end{tabular}\n"
      ],
      "text/markdown": [
       "\n",
       "| person | text |\n",
       "|---|---|\n",
       "| Nick                                                                       |  DataCamp courses are the best                                             |\n",
       "| Jonathan                                                                   | I like talking to students                                                 |\n",
       "| Martijn                                                                    | Other online data science curricula are boring.                            |\n",
       "| Nicole                                                                     | What is for lunch?                                                         |\n",
       "| Nick                                                                       | DataCamp has lots of great content!                                        |\n",
       "| Jonathan                                                                   | Students are passionate and are excited to learn                           |\n",
       "| Martijn                                                                    | Other data science curriculum is hard to learn and difficult to understand |\n",
       "| Nicole                                                                     | I think the food here is good.                                             |\n",
       "\n"
      ],
      "text/plain": [
       "  person  \n",
       "1 Nick    \n",
       "2 Jonathan\n",
       "3 Martijn \n",
       "4 Nicole  \n",
       "5 Nick    \n",
       "6 Jonathan\n",
       "7 Martijn \n",
       "8 Nicole  \n",
       "  text                                                                      \n",
       "1  DataCamp courses are the best                                            \n",
       "2 I like talking to students                                                \n",
       "3 Other online data science curricula are boring.                           \n",
       "4 What is for lunch?                                                        \n",
       "5 DataCamp has lots of great content!                                       \n",
       "6 Students are passionate and are excited to learn                          \n",
       "7 Other data science curriculum is hard to learn and difficult to understand\n",
       "8 I think the food here is good.                                            "
      ]
     },
     "metadata": {},
     "output_type": "display_data"
    }
   ],
   "source": [
    "read.csv(\"ch1_1.csv\")"
   ]
  },
  {
   "cell_type": "code",
   "execution_count": 13,
   "metadata": {
    "collapsed": false
   },
   "outputs": [
    {
     "data": {
      "text/html": [
       "<dl>\n",
       "\t<dt>$all</dt>\n",
       "\t\t<dd><table>\n",
       "<thead><tr><th scope=col>all</th><th scope=col>wc</th><th scope=col>polarity</th><th scope=col>pos.words</th><th scope=col>neg.words</th><th scope=col>text.var</th></tr></thead>\n",
       "<tbody>\n",
       "\t<tr><td>all                                                                       </td><td> 5                                                                        </td><td> 0.4472136                                                                </td><td>best                                                                      </td><td>-                                                                         </td><td> DataCamp courses are the best                                            </td></tr>\n",
       "\t<tr><td>all                                                                       </td><td> 5                                                                        </td><td> 0.4472136                                                                </td><td>like                                                                      </td><td>-                                                                         </td><td>I like talking to students                                                </td></tr>\n",
       "\t<tr><td>all                                                                       </td><td> 7                                                                        </td><td>-0.3779645                                                                </td><td>-                                                                         </td><td>boring                                                                    </td><td>Other online data science curricula are boring.                           </td></tr>\n",
       "\t<tr><td>all                                                                       </td><td> 4                                                                        </td><td> 0.0000000                                                                </td><td>-                                                                         </td><td>-                                                                         </td><td>What is for lunch?                                                        </td></tr>\n",
       "\t<tr><td>all                                                                       </td><td> 6                                                                        </td><td> 0.4082483                                                                </td><td>great                                                                     </td><td>-                                                                         </td><td>DataCamp has lots of great content!                                       </td></tr>\n",
       "\t<tr><td>all                                                                       </td><td> 8                                                                        </td><td> 0.7071068                                                                </td><td>passionate, excited                                                       </td><td>-                                                                         </td><td>Students are passionate and are excited to learn                          </td></tr>\n",
       "\t<tr><td>all                                                                       </td><td>12                                                                        </td><td>-0.5773503                                                                </td><td>-                                                                         </td><td>hard     , difficult                                                      </td><td>Other data science curriculum is hard to learn and difficult to understand</td></tr>\n",
       "\t<tr><td>all                                                                       </td><td> 7                                                                        </td><td> 0.3779645                                                                </td><td>good                                                                      </td><td>-                                                                         </td><td>I think the food here is good.                                            </td></tr>\n",
       "</tbody>\n",
       "</table>\n",
       "</dd>\n",
       "\t<dt>$group</dt>\n",
       "\t\t<dd><table>\n",
       "<thead><tr><th scope=col>all</th><th scope=col>total.sentences</th><th scope=col>total.words</th><th scope=col>ave.polarity</th><th scope=col>sd.polarity</th><th scope=col>stan.mean.polarity</th></tr></thead>\n",
       "<tbody>\n",
       "\t<tr><td>all      </td><td>8        </td><td>54       </td><td>0.179054 </td><td>0.4518583</td><td>0.3962614</td></tr>\n",
       "</tbody>\n",
       "</table>\n",
       "</dd>\n",
       "</dl>\n"
      ],
      "text/latex": [
       "\\begin{description}\n",
       "\\item[\\$all] \\begin{tabular}{r|llllll}\n",
       " all & wc & polarity & pos.words & neg.words & text.var\\\\\n",
       "\\hline\n",
       "\t all                                                                        &  5                                                                         &  0.4472136                                                                 & best                                                                       & -                                                                          &  DataCamp courses are the best                                            \\\\\n",
       "\t all                                                                        &  5                                                                         &  0.4472136                                                                 & like                                                                       & -                                                                          & I like talking to students                                                \\\\\n",
       "\t all                                                                        &  7                                                                         & -0.3779645                                                                 & -                                                                          & boring                                                                     & Other online data science curricula are boring.                           \\\\\n",
       "\t all                                                                        &  4                                                                         &  0.0000000                                                                 & -                                                                          & -                                                                          & What is for lunch?                                                        \\\\\n",
       "\t all                                                                        &  6                                                                         &  0.4082483                                                                 & great                                                                      & -                                                                          & DataCamp has lots of great content!                                       \\\\\n",
       "\t all                                                                        &  8                                                                         &  0.7071068                                                                 & passionate, excited                                                        & -                                                                          & Students are passionate and are excited to learn                          \\\\\n",
       "\t all                                                                        & 12                                                                         & -0.5773503                                                                 & -                                                                          & hard     , difficult                                                       & Other data science curriculum is hard to learn and difficult to understand\\\\\n",
       "\t all                                                                        &  7                                                                         &  0.3779645                                                                 & good                                                                       & -                                                                          & I think the food here is good.                                            \\\\\n",
       "\\end{tabular}\n",
       "\n",
       "\\item[\\$group] \\begin{tabular}{r|llllll}\n",
       " all & total.sentences & total.words & ave.polarity & sd.polarity & stan.mean.polarity\\\\\n",
       "\\hline\n",
       "\t all       & 8         & 54        & 0.179054  & 0.4518583 & 0.3962614\\\\\n",
       "\\end{tabular}\n",
       "\n",
       "\\end{description}\n"
      ],
      "text/markdown": [
       "$all\n",
       ":   \n",
       "| all | wc | polarity | pos.words | neg.words | text.var |\n",
       "|---|---|---|---|---|---|\n",
       "| all                                                                        |  5                                                                         |  0.4472136                                                                 | best                                                                       | -                                                                          |  DataCamp courses are the best                                             |\n",
       "| all                                                                        |  5                                                                         |  0.4472136                                                                 | like                                                                       | -                                                                          | I like talking to students                                                 |\n",
       "| all                                                                        |  7                                                                         | -0.3779645                                                                 | -                                                                          | boring                                                                     | Other online data science curricula are boring.                            |\n",
       "| all                                                                        |  4                                                                         |  0.0000000                                                                 | -                                                                          | -                                                                          | What is for lunch?                                                         |\n",
       "| all                                                                        |  6                                                                         |  0.4082483                                                                 | great                                                                      | -                                                                          | DataCamp has lots of great content!                                        |\n",
       "| all                                                                        |  8                                                                         |  0.7071068                                                                 | passionate, excited                                                        | -                                                                          | Students are passionate and are excited to learn                           |\n",
       "| all                                                                        | 12                                                                         | -0.5773503                                                                 | -                                                                          | hard     , difficult                                                       | Other data science curriculum is hard to learn and difficult to understand |\n",
       "| all                                                                        |  7                                                                         |  0.3779645                                                                 | good                                                                       | -                                                                          | I think the food here is good.                                             |\n",
       "\n",
       "\n",
       "$group\n",
       ":   \n",
       "| all | total.sentences | total.words | ave.polarity | sd.polarity | stan.mean.polarity |\n",
       "|---|---|---|---|---|---|\n",
       "| all       | 8         | 54        | 0.179054  | 0.4518583 | 0.3962614 |\n",
       "\n",
       "\n",
       "\n",
       "\n"
      ],
      "text/plain": [
       "  all total.sentences total.words ave.polarity sd.polarity stan.mean.polarity\n",
       "1 all               8          54        0.179       0.452              0.396"
      ]
     },
     "metadata": {},
     "output_type": "display_data"
    }
   ],
   "source": [
    "# Examine the text data\n",
    "text_df = read.csv(\"ch1_1.csv\")\n",
    "\n",
    "# Calc overall polarity score\n",
    "text_df %$% polarity(text)"
   ]
  },
  {
   "cell_type": "code",
   "execution_count": 17,
   "metadata": {
    "collapsed": false
   },
   "outputs": [
    {
     "data": {
      "text/html": [
       "<dl>\n",
       "\t<dt>$all</dt>\n",
       "\t\t<dd><table>\n",
       "<thead><tr><th scope=col>person</th><th scope=col>wc</th><th scope=col>polarity</th><th scope=col>pos.words</th><th scope=col>neg.words</th><th scope=col>text.var</th></tr></thead>\n",
       "<tbody>\n",
       "\t<tr><td>Nick                                                                      </td><td> 5                                                                        </td><td> 0.4472136                                                                </td><td>best                                                                      </td><td>-                                                                         </td><td> DataCamp courses are the best                                            </td></tr>\n",
       "\t<tr><td>Jonathan                                                                  </td><td> 5                                                                        </td><td> 0.4472136                                                                </td><td>like                                                                      </td><td>-                                                                         </td><td>I like talking to students                                                </td></tr>\n",
       "\t<tr><td>Martijn                                                                   </td><td> 7                                                                        </td><td>-0.3779645                                                                </td><td>-                                                                         </td><td>boring                                                                    </td><td>Other online data science curricula are boring.                           </td></tr>\n",
       "\t<tr><td>Nicole                                                                    </td><td> 4                                                                        </td><td> 0.0000000                                                                </td><td>-                                                                         </td><td>-                                                                         </td><td>What is for lunch?                                                        </td></tr>\n",
       "\t<tr><td>Nick                                                                      </td><td> 6                                                                        </td><td> 0.4082483                                                                </td><td>great                                                                     </td><td>-                                                                         </td><td>DataCamp has lots of great content!                                       </td></tr>\n",
       "\t<tr><td>Jonathan                                                                  </td><td> 8                                                                        </td><td> 0.7071068                                                                </td><td>passionate, excited                                                       </td><td>-                                                                         </td><td>Students are passionate and are excited to learn                          </td></tr>\n",
       "\t<tr><td>Martijn                                                                   </td><td>12                                                                        </td><td>-0.5773503                                                                </td><td>-                                                                         </td><td>hard     , difficult                                                      </td><td>Other data science curriculum is hard to learn and difficult to understand</td></tr>\n",
       "\t<tr><td>Nicole                                                                    </td><td> 7                                                                        </td><td> 0.3779645                                                                </td><td>good                                                                      </td><td>-                                                                         </td><td>I think the food here is good.                                            </td></tr>\n",
       "</tbody>\n",
       "</table>\n",
       "</dd>\n",
       "\t<dt>$group</dt>\n",
       "\t\t<dd><table>\n",
       "<thead><tr><th scope=col>person</th><th scope=col>total.sentences</th><th scope=col>total.words</th><th scope=col>ave.polarity</th><th scope=col>sd.polarity</th><th scope=col>stan.mean.polarity</th></tr></thead>\n",
       "<tbody>\n",
       "\t<tr><td>Jonathan  </td><td>2         </td><td>13        </td><td> 0.5771602</td><td>0.18377223</td><td> 3.1406278</td></tr>\n",
       "\t<tr><td>Martijn   </td><td>2         </td><td>19        </td><td>-0.4776574</td><td>0.14098705</td><td>-3.3879521</td></tr>\n",
       "\t<tr><td>Nick      </td><td>2         </td><td>11        </td><td> 0.4277309</td><td>0.02755263</td><td>15.5241413</td></tr>\n",
       "\t<tr><td>Nicole    </td><td>2         </td><td>11        </td><td> 0.1889822</td><td>0.26726124</td><td> 0.7071068</td></tr>\n",
       "</tbody>\n",
       "</table>\n",
       "</dd>\n",
       "</dl>\n"
      ],
      "text/latex": [
       "\\begin{description}\n",
       "\\item[\\$all] \\begin{tabular}{r|llllll}\n",
       " person & wc & polarity & pos.words & neg.words & text.var\\\\\n",
       "\\hline\n",
       "\t Nick                                                                       &  5                                                                         &  0.4472136                                                                 & best                                                                       & -                                                                          &  DataCamp courses are the best                                            \\\\\n",
       "\t Jonathan                                                                   &  5                                                                         &  0.4472136                                                                 & like                                                                       & -                                                                          & I like talking to students                                                \\\\\n",
       "\t Martijn                                                                    &  7                                                                         & -0.3779645                                                                 & -                                                                          & boring                                                                     & Other online data science curricula are boring.                           \\\\\n",
       "\t Nicole                                                                     &  4                                                                         &  0.0000000                                                                 & -                                                                          & -                                                                          & What is for lunch?                                                        \\\\\n",
       "\t Nick                                                                       &  6                                                                         &  0.4082483                                                                 & great                                                                      & -                                                                          & DataCamp has lots of great content!                                       \\\\\n",
       "\t Jonathan                                                                   &  8                                                                         &  0.7071068                                                                 & passionate, excited                                                        & -                                                                          & Students are passionate and are excited to learn                          \\\\\n",
       "\t Martijn                                                                    & 12                                                                         & -0.5773503                                                                 & -                                                                          & hard     , difficult                                                       & Other data science curriculum is hard to learn and difficult to understand\\\\\n",
       "\t Nicole                                                                     &  7                                                                         &  0.3779645                                                                 & good                                                                       & -                                                                          & I think the food here is good.                                            \\\\\n",
       "\\end{tabular}\n",
       "\n",
       "\\item[\\$group] \\begin{tabular}{r|llllll}\n",
       " person & total.sentences & total.words & ave.polarity & sd.polarity & stan.mean.polarity\\\\\n",
       "\\hline\n",
       "\t Jonathan   & 2          & 13         &  0.5771602 & 0.18377223 &  3.1406278\\\\\n",
       "\t Martijn    & 2          & 19         & -0.4776574 & 0.14098705 & -3.3879521\\\\\n",
       "\t Nick       & 2          & 11         &  0.4277309 & 0.02755263 & 15.5241413\\\\\n",
       "\t Nicole     & 2          & 11         &  0.1889822 & 0.26726124 &  0.7071068\\\\\n",
       "\\end{tabular}\n",
       "\n",
       "\\end{description}\n"
      ],
      "text/markdown": [
       "$all\n",
       ":   \n",
       "| person | wc | polarity | pos.words | neg.words | text.var |\n",
       "|---|---|---|---|---|---|\n",
       "| Nick                                                                       |  5                                                                         |  0.4472136                                                                 | best                                                                       | -                                                                          |  DataCamp courses are the best                                             |\n",
       "| Jonathan                                                                   |  5                                                                         |  0.4472136                                                                 | like                                                                       | -                                                                          | I like talking to students                                                 |\n",
       "| Martijn                                                                    |  7                                                                         | -0.3779645                                                                 | -                                                                          | boring                                                                     | Other online data science curricula are boring.                            |\n",
       "| Nicole                                                                     |  4                                                                         |  0.0000000                                                                 | -                                                                          | -                                                                          | What is for lunch?                                                         |\n",
       "| Nick                                                                       |  6                                                                         |  0.4082483                                                                 | great                                                                      | -                                                                          | DataCamp has lots of great content!                                        |\n",
       "| Jonathan                                                                   |  8                                                                         |  0.7071068                                                                 | passionate, excited                                                        | -                                                                          | Students are passionate and are excited to learn                           |\n",
       "| Martijn                                                                    | 12                                                                         | -0.5773503                                                                 | -                                                                          | hard     , difficult                                                       | Other data science curriculum is hard to learn and difficult to understand |\n",
       "| Nicole                                                                     |  7                                                                         |  0.3779645                                                                 | good                                                                       | -                                                                          | I think the food here is good.                                             |\n",
       "\n",
       "\n",
       "$group\n",
       ":   \n",
       "| person | total.sentences | total.words | ave.polarity | sd.polarity | stan.mean.polarity |\n",
       "|---|---|---|---|---|---|\n",
       "| Jonathan   | 2          | 13         |  0.5771602 | 0.18377223 |  3.1406278 |\n",
       "| Martijn    | 2          | 19         | -0.4776574 | 0.14098705 | -3.3879521 |\n",
       "| Nick       | 2          | 11         |  0.4277309 | 0.02755263 | 15.5241413 |\n",
       "| Nicole     | 2          | 11         |  0.1889822 | 0.26726124 |  0.7071068 |\n",
       "\n",
       "\n",
       "\n",
       "\n"
      ],
      "text/plain": [
       "    person total.sentences total.words ave.polarity sd.polarity stan.mean.polarity\n",
       "1 Jonathan               2          13        0.577       0.184              3.141\n",
       "2  Martijn               2          19       -0.478       0.141             -3.388\n",
       "3     Nick               2          11        0.428       0.028             15.524\n",
       "4   Nicole               2          11        0.189       0.267              0.707"
      ]
     },
     "metadata": {},
     "output_type": "display_data"
    }
   ],
   "source": [
    "# Calc polarity score by person\n",
    "(conversation <- text_df %$% polarity(text, person))"
   ]
  },
  {
   "cell_type": "code",
   "execution_count": 18,
   "metadata": {
    "collapsed": false
   },
   "outputs": [
    {
     "data": {
      "text/html": [
       "<table>\n",
       "<thead><tr><th scope=col>person</th><th scope=col>wc</th><th scope=col>polarity</th><th scope=col>pos.words</th><th scope=col>neg.words</th><th scope=col>text.var</th></tr></thead>\n",
       "<tbody>\n",
       "\t<tr><td>Nick                                                                      </td><td> 5                                                                        </td><td> 0.4472136                                                                </td><td>best                                                                      </td><td>-                                                                         </td><td> DataCamp courses are the best                                            </td></tr>\n",
       "\t<tr><td>Jonathan                                                                  </td><td> 5                                                                        </td><td> 0.4472136                                                                </td><td>like                                                                      </td><td>-                                                                         </td><td>I like talking to students                                                </td></tr>\n",
       "\t<tr><td>Martijn                                                                   </td><td> 7                                                                        </td><td>-0.3779645                                                                </td><td>-                                                                         </td><td>boring                                                                    </td><td>Other online data science curricula are boring.                           </td></tr>\n",
       "\t<tr><td>Nicole                                                                    </td><td> 4                                                                        </td><td> 0.0000000                                                                </td><td>-                                                                         </td><td>-                                                                         </td><td>What is for lunch?                                                        </td></tr>\n",
       "\t<tr><td>Nick                                                                      </td><td> 6                                                                        </td><td> 0.4082483                                                                </td><td>great                                                                     </td><td>-                                                                         </td><td>DataCamp has lots of great content!                                       </td></tr>\n",
       "\t<tr><td>Jonathan                                                                  </td><td> 8                                                                        </td><td> 0.7071068                                                                </td><td>passionate, excited                                                       </td><td>-                                                                         </td><td>Students are passionate and are excited to learn                          </td></tr>\n",
       "\t<tr><td>Martijn                                                                   </td><td>12                                                                        </td><td>-0.5773503                                                                </td><td>-                                                                         </td><td>hard     , difficult                                                      </td><td>Other data science curriculum is hard to learn and difficult to understand</td></tr>\n",
       "\t<tr><td>Nicole                                                                    </td><td> 7                                                                        </td><td> 0.3779645                                                                </td><td>good                                                                      </td><td>-                                                                         </td><td>I think the food here is good.                                            </td></tr>\n",
       "</tbody>\n",
       "</table>\n"
      ],
      "text/latex": [
       "\\begin{tabular}{r|llllll}\n",
       " person & wc & polarity & pos.words & neg.words & text.var\\\\\n",
       "\\hline\n",
       "\t Nick                                                                       &  5                                                                         &  0.4472136                                                                 & best                                                                       & -                                                                          &  DataCamp courses are the best                                            \\\\\n",
       "\t Jonathan                                                                   &  5                                                                         &  0.4472136                                                                 & like                                                                       & -                                                                          & I like talking to students                                                \\\\\n",
       "\t Martijn                                                                    &  7                                                                         & -0.3779645                                                                 & -                                                                          & boring                                                                     & Other online data science curricula are boring.                           \\\\\n",
       "\t Nicole                                                                     &  4                                                                         &  0.0000000                                                                 & -                                                                          & -                                                                          & What is for lunch?                                                        \\\\\n",
       "\t Nick                                                                       &  6                                                                         &  0.4082483                                                                 & great                                                                      & -                                                                          & DataCamp has lots of great content!                                       \\\\\n",
       "\t Jonathan                                                                   &  8                                                                         &  0.7071068                                                                 & passionate, excited                                                        & -                                                                          & Students are passionate and are excited to learn                          \\\\\n",
       "\t Martijn                                                                    & 12                                                                         & -0.5773503                                                                 & -                                                                          & hard     , difficult                                                       & Other data science curriculum is hard to learn and difficult to understand\\\\\n",
       "\t Nicole                                                                     &  7                                                                         &  0.3779645                                                                 & good                                                                       & -                                                                          & I think the food here is good.                                            \\\\\n",
       "\\end{tabular}\n"
      ],
      "text/markdown": [
       "\n",
       "| person | wc | polarity | pos.words | neg.words | text.var |\n",
       "|---|---|---|---|---|---|\n",
       "| Nick                                                                       |  5                                                                         |  0.4472136                                                                 | best                                                                       | -                                                                          |  DataCamp courses are the best                                             |\n",
       "| Jonathan                                                                   |  5                                                                         |  0.4472136                                                                 | like                                                                       | -                                                                          | I like talking to students                                                 |\n",
       "| Martijn                                                                    |  7                                                                         | -0.3779645                                                                 | -                                                                          | boring                                                                     | Other online data science curricula are boring.                            |\n",
       "| Nicole                                                                     |  4                                                                         |  0.0000000                                                                 | -                                                                          | -                                                                          | What is for lunch?                                                         |\n",
       "| Nick                                                                       |  6                                                                         |  0.4082483                                                                 | great                                                                      | -                                                                          | DataCamp has lots of great content!                                        |\n",
       "| Jonathan                                                                   |  8                                                                         |  0.7071068                                                                 | passionate, excited                                                        | -                                                                          | Students are passionate and are excited to learn                           |\n",
       "| Martijn                                                                    | 12                                                                         | -0.5773503                                                                 | -                                                                          | hard     , difficult                                                       | Other data science curriculum is hard to learn and difficult to understand |\n",
       "| Nicole                                                                     |  7                                                                         |  0.3779645                                                                 | good                                                                       | -                                                                          | I think the food here is good.                                             |\n",
       "\n"
      ],
      "text/plain": [
       "  person   wc polarity   pos.words              neg.words           \n",
       "1 Nick      5  0.4472136 best                   -                   \n",
       "2 Jonathan  5  0.4472136 like                   -                   \n",
       "3 Martijn   7 -0.3779645 -                      boring              \n",
       "4 Nicole    4  0.0000000 -                      -                   \n",
       "5 Nick      6  0.4082483 great                  -                   \n",
       "6 Jonathan  8  0.7071068 passionate, excited    -                   \n",
       "7 Martijn  12 -0.5773503 -                      hard     , difficult\n",
       "8 Nicole    7  0.3779645 good                   -                   \n",
       "  text.var                                                                  \n",
       "1  DataCamp courses are the best                                            \n",
       "2 I like talking to students                                                \n",
       "3 Other online data science curricula are boring.                           \n",
       "4 What is for lunch?                                                        \n",
       "5 DataCamp has lots of great content!                                       \n",
       "6 Students are passionate and are excited to learn                          \n",
       "7 Other data science curriculum is hard to learn and difficult to understand\n",
       "8 I think the food here is good.                                            "
      ]
     },
     "metadata": {},
     "output_type": "display_data"
    },
    {
     "name": "stderr",
     "output_type": "stream",
     "text": [
      "Warning message:\n",
      "\"`show_guide` has been deprecated. Please use `show.legend` instead.\"Warning message:\n",
      "\"Ignoring unknown aesthetics: x\"Warning message:\n",
      "\"`show_guide` has been deprecated. Please use `show.legend` instead.\""
     ]
    },
    {
     "data": {
      "image/png": "[encoded data removed]",
      "text/plain": [
       "plot without title"
      ]
     },
     "metadata": {},
     "output_type": "display_data"
    }
   ],
   "source": [
    "# Counts table from datacamp_conversation\n",
    "counts(conversation)\n",
    "\n",
    "# Plot the conversation polarity\n",
    "plot(conversation)"
   ]
  }
 ],
 "metadata": {
  "anaconda-cloud": {},
  "kernelspec": {
   "display_name": "R",
   "language": "R",
   "name": "ir"
  },
  "language_info": {
   "codemirror_mode": "r",
   "file_extension": ".r",
   "mimetype": "text/x-r-source",
   "name": "R",
   "pygments_lexer": "r",
   "version": "3.5.0"
  }
 },
 "nbformat": 4,
 "nbformat_minor": 1
}
